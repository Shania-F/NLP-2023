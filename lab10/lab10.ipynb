{
 "cells": [
  {
   "cell_type": "markdown",
   "id": "de7c9080-2e29-41d0-a3df-7f8a3bfb413c",
   "metadata": {},
   "source": [
    "# Lab 10 - Chatbot using PyTorch\n",
    "In this lab you will create a Chatbot using sequence to sequence models. The chatbot will be trained on movie scripts from the [Cornell Movie-Dialogs Corpus](https://www.cs.cornell.edu/~cristian/Cornell_Movie-Dialogs_Corpus.html), using an encoder and decoder architecture.\n",
    "\n",
    "This lab is heavily based on the [Chatbot Tutorial](https://pytorch.org/tutorials/beginner/chatbot_tutorial.html#load-preprocess-data) available on the PyTorch website."
   ]
  },
  {
   "cell_type": "code",
   "execution_count": null,
   "id": "154117f3-da18-4eaf-a004-b982d62a5304",
   "metadata": {},
   "outputs": [],
   "source": [
    "# %pip install torch==1.11.0+cu113 torchdata==0.3.0 torchtext==0.12.0 -f https://download.pytorch.org/whl/cu113/torch_stable.html\n",
    "# %pip install tqdm ipywidgets spacy\n",
    "# !python -m spacy download en_core_web_sm"
   ]
  },
  {
   "cell_type": "code",
   "execution_count": 1,
   "id": "c85d59d4-f1da-4635-a674-becc78df704f",
   "metadata": {},
   "outputs": [
    {
     "name": "stdout",
     "output_type": "stream",
     "text": [
      "PyTorch Version:  1.11.0+cu113\n",
      "torchtext Version:  0.12.0\n",
      "Using GPU.\n"
     ]
    }
   ],
   "source": [
    "import torch\n",
    "import torchtext\n",
    "import random\n",
    "import numpy as np\n",
    "\n",
    "SEED = 1234\n",
    "DEVICE = torch.device(\"cuda\" if torch.cuda.is_available() else \"cpu\")\n",
    "torch.manual_seed(SEED)\n",
    "random.seed(SEED)\n",
    "np.random.seed(SEED)\n",
    "torch.backends.cudnn.deterministic = True\n",
    "\n",
    "print(\"PyTorch Version: \", torch.__version__)\n",
    "print(\"torchtext Version: \", torchtext.__version__)\n",
    "print(f\"Using {'GPU' if str(DEVICE) == 'cuda' else 'CPU'}.\")"
   ]
  },
  {
   "cell_type": "markdown",
   "id": "84e283cc-3b06-44bb-98d8-914a03ce32a1",
   "metadata": {},
   "source": [
    "# Data Preparation\n",
    "The first step will be downloading and processing the corpus we will be working with.\n",
    "\n",
    "We will be using the [Cornell Movie-Dialogs Corpus](https://www.cs.cornell.edu/~cristian/Cornell_Movie-Dialogs_Corpus.html) to train the model on dialog line pairs.\n",
    "\n",
    "The corpus contains 220,579 conversational exchanges between 10,292 pairs of movie characters with 9,035 characters total, from 617 movies and 304,713 total utterances. This variety makes the dataset very diverse as far as tone and sentiment are concerned, which  makes it ideal for training a chatbot.\n",
    "\n",
    "The primary downside of the dataset is that it needs rather thorough processing and cleaning for use in chatbot training, but we will tackle it step by step.\n",
    "\n",
    "First, we need to download it. We'll use Python's `urllib` and `zipfile` libraries to quickly download the zip file and unzip it."
   ]
  },
  {
   "cell_type": "code",
   "execution_count": 2,
   "id": "4f974ce7-3138-4b11-8fa1-7573693b2e0f",
   "metadata": {},
   "outputs": [],
   "source": [
    "import urllib.request\n",
    "import zipfile\n",
    "from pathlib import Path\n",
    "\n",
    "def download_cornell_movie_dialogs(extract_dir = Path(\".\")):\n",
    "    # Download\n",
    "    URL = \"http://www.cs.cornell.edu/~cristian/data/cornell_movie_dialogs_corpus.zip\"\n",
    "    zip_path, _ = urllib.request.urlretrieve(URL)\n",
    "\n",
    "    # Unzip\n",
    "    with zipfile.ZipFile(zip_path, \"r\") as f:\n",
    "        f.extractall(extract_dir)\n",
    "\n",
    "download_cornell_movie_dialogs()"
   ]
  },
  {
   "cell_type": "markdown",
   "id": "94919ed2-919e-4439-a0c9-b2e4e7208b35",
   "metadata": {},
   "source": [
    "## Data Exploration\n",
    "We can inspect what the data looks like originally pretty easily:"
   ]
  },
  {
   "cell_type": "code",
   "execution_count": 3,
   "id": "eb867cd0-abb9-41c9-a6b6-a16a59ecb268",
   "metadata": {},
   "outputs": [
    {
     "name": "stdout",
     "output_type": "stream",
     "text": [
      "L1045 +++$+++ u0 +++$+++ m0 +++$+++ BIANCA +++$+++ They do not!\n",
      "\n",
      "L1044 +++$+++ u2 +++$+++ m0 +++$+++ CAMERON +++$+++ They do to!\n",
      "\n",
      "L985 +++$+++ u0 +++$+++ m0 +++$+++ BIANCA +++$+++ I hope so.\n",
      "\n",
      "L984 +++$+++ u2 +++$+++ m0 +++$+++ CAMERON +++$+++ She okay?\n",
      "\n",
      "L925 +++$+++ u0 +++$+++ m0 +++$+++ BIANCA +++$+++ Let's go.\n",
      "\n",
      "L924 +++$+++ u2 +++$+++ m0 +++$+++ CAMERON +++$+++ Wow\n",
      "\n",
      "L872 +++$+++ u0 +++$+++ m0 +++$+++ BIANCA +++$+++ Okay -- you're gonna need to learn how to lie.\n",
      "\n",
      "L871 +++$+++ u2 +++$+++ m0 +++$+++ CAMERON +++$+++ No\n",
      "\n",
      "L870 +++$+++ u0 +++$+++ m0 +++$+++ BIANCA +++$+++ I'm kidding.  You know how sometimes you just become this \"persona\"?  And you don't know how to quit?\n",
      "\n",
      "L869 +++$+++ u0 +++$+++ m0 +++$+++ BIANCA +++$+++ Like my fear of wearing pastels?\n",
      "\n"
     ]
    }
   ],
   "source": [
    "DATA_PATH = Path(\"cornell movie-dialogs corpus\")\n",
    "\n",
    "def _print_x_lines(x, file):\n",
    "    with open(file, \"r\") as f:\n",
    "        for _ in range(x):\n",
    "            print(f.readline())\n",
    "\n",
    "_print_x_lines(10, DATA_PATH / \"movie_lines.txt\")"
   ]
  },
  {
   "cell_type": "markdown",
   "id": "f7e0a81e-bb9b-414f-9a04-aea2a07e087b",
   "metadata": {},
   "source": [
    "As you can see, each line has:\n",
    "- a line ID at the start,\n",
    "- then the ID of the character saying the line,\n",
    "- the ID of the movie the line belongs to,\n",
    "- the character's name, and last but not least,\n",
    "- the actual line\n",
    "\n",
    "The file is essentially in csv format with `+++$+++` as the delimiter. As such, we'll process each line into a dictionary with those fields much more explicit for easier access later.\n",
    "\n",
    "The corpus additionally has a \"conversations\" file, which groups individual lines together into distinct conversations."
   ]
  },
  {
   "cell_type": "code",
   "execution_count": 4,
   "id": "dd8c7ada-febd-4395-bbd9-bb3065d31274",
   "metadata": {},
   "outputs": [
    {
     "name": "stdout",
     "output_type": "stream",
     "text": [
      "u0 +++$+++ u2 +++$+++ m0 +++$+++ ['L194', 'L195', 'L196', 'L197']\n",
      "\n",
      "u0 +++$+++ u2 +++$+++ m0 +++$+++ ['L198', 'L199']\n",
      "\n",
      "u0 +++$+++ u2 +++$+++ m0 +++$+++ ['L200', 'L201', 'L202', 'L203']\n",
      "\n",
      "u0 +++$+++ u2 +++$+++ m0 +++$+++ ['L204', 'L205', 'L206']\n",
      "\n",
      "u0 +++$+++ u2 +++$+++ m0 +++$+++ ['L207', 'L208']\n",
      "\n",
      "u0 +++$+++ u2 +++$+++ m0 +++$+++ ['L271', 'L272', 'L273', 'L274', 'L275']\n",
      "\n",
      "u0 +++$+++ u2 +++$+++ m0 +++$+++ ['L276', 'L277']\n",
      "\n",
      "u0 +++$+++ u2 +++$+++ m0 +++$+++ ['L280', 'L281']\n",
      "\n",
      "u0 +++$+++ u2 +++$+++ m0 +++$+++ ['L363', 'L364']\n",
      "\n",
      "u0 +++$+++ u2 +++$+++ m0 +++$+++ ['L365', 'L366']\n",
      "\n"
     ]
    }
   ],
   "source": [
    "_print_x_lines(10, DATA_PATH / \"movie_conversations.txt\")"
   ]
  },
  {
   "cell_type": "markdown",
   "id": "36b6e832-aa0e-4bf9-bdd9-876c4a5f7c42",
   "metadata": {},
   "source": [
    "We can observe that each conversation has the following format:\n",
    "- the ID of the first character involved in the conversation\n",
    "- the ID of the second character involved in the conversation\n",
    "- the ID of the movie the conversation takes place in\n",
    "- a list of line IDs included in the conversation.\n",
    "\n",
    "`+++$+++` is the delimiter once again."
   ]
  },
  {
   "cell_type": "markdown",
   "id": "f07e175b-0fd7-49d8-a5c1-f19d4e1ccce5",
   "metadata": {},
   "source": [
    "## Data Processing\n",
    "Having our data in its raw format is very inconvenient, so we'll convert everything to Python dictionaries for easy access to all the information we need during training.\n",
    "\n",
    "As far as lines are concerned, we will simply split them and conver them to Python dictionraries with the fields identified in the previous section as the keys."
   ]
  },
  {
   "cell_type": "code",
   "execution_count": 5,
   "id": "db3abf02-959b-4d30-9c71-a255c8193889",
   "metadata": {},
   "outputs": [],
   "source": [
    "def _process_line(line, field_names):\n",
    "    line = line.split(\" +++$+++ \")  # Delimiter\n",
    "    line = dict(zip(field_names, line))  # To dict using field_names as keys\n",
    "    return line\n",
    "\n",
    "def process_lines():\n",
    "    # Fields as they appear in the data\n",
    "    FIELDS = [\"lineID\", \"characterID\", \"movieID\", \"character\", \"text\"]\n",
    "    \n",
    "    lines = {}  # Map from line ID to line object\n",
    "    # Note the encoding, the dataset is not plain UTF-8\n",
    "    with open(DATA_PATH / \"movie_lines.txt\", \"r\", encoding=\"iso-8859-1\") as f:\n",
    "        for line in f.readlines():  # For each line\n",
    "            line_dict = _process_line(line, FIELDS)  # Process it\n",
    "            lines[line_dict[\"lineID\"]] = line_dict  # Store it according to its ID\n",
    "\n",
    "    return lines\n",
    "\n",
    "movie_lines = process_lines()"
   ]
  },
  {
   "cell_type": "code",
   "execution_count": 6,
   "id": "1ae7b901-aa6d-4b43-b29d-77fe5f89f46f",
   "metadata": {},
   "outputs": [
    {
     "name": "stdout",
     "output_type": "stream",
     "text": [
      "{'lineID': 'L1045', 'characterID': 'u0', 'movieID': 'm0', 'character': 'BIANCA', 'text': 'They do not!\\n'}\n",
      "{'lineID': 'L1044', 'characterID': 'u2', 'movieID': 'm0', 'character': 'CAMERON', 'text': 'They do to!\\n'}\n"
     ]
    }
   ],
   "source": [
    "print(movie_lines[\"L1045\"])\n",
    "print(movie_lines[\"L1044\"])"
   ]
  },
  {
   "cell_type": "markdown",
   "id": "3810ee51-817b-4d07-a18a-7e9c0983742a",
   "metadata": {},
   "source": [
    "We'll process conversations in a very similar way. The only thing we'll do differently is that we will match each Line ID to its actual line object and store it to each extracted conversation object."
   ]
  },
  {
   "cell_type": "code",
   "execution_count": 8,
   "id": "548796d7-8436-4fd7-98fc-98eefc04dee0",
   "metadata": {},
   "outputs": [],
   "source": [
    "def _process_conversation(convo, field_names):\n",
    "    \n",
    "    convo = convo.split(\" +++$+++ \")\n",
    "    convo = dict(zip(field_names, convo))\n",
    "    \n",
    "    convo[\"lineIDs\"] = eval(convo[\"lineIDs\"])  # Convert to Python list\n",
    "    # Fetch actual line objects\n",
    "    convo[\"lines\"] = [movie_lines[line_id] for line_id in convo[\"lineIDs\"]]\n",
    "    \n",
    "    return convo\n",
    "    \n",
    "def process_conversations():\n",
    "    FIELDS = [\"character1ID\", \"character2ID\", \"movieID\", \"lineIDs\"]\n",
    "    \n",
    "    convos = []\n",
    "    with open(DATA_PATH / \"movie_conversations.txt\", \"r\", encoding=\"iso-8859-1\") as f:\n",
    "        for convo in f.readlines():\n",
    "            convo_dict = _process_conversation(convo, FIELDS)\n",
    "            convos.append(convo_dict)\n",
    "            \n",
    "    return convos\n",
    "\n",
    "movie_conversations = process_conversations()"
   ]
  },
  {
   "cell_type": "code",
   "execution_count": 9,
   "id": "b766098e-e8ee-45f9-a294-e1c288134d7a",
   "metadata": {},
   "outputs": [
    {
     "data": {
      "text/plain": [
       "{'character1ID': 'u0',\n",
       " 'character2ID': 'u2',\n",
       " 'movieID': 'm0',\n",
       " 'lineIDs': ['L194', 'L195', 'L196', 'L197'],\n",
       " 'lines': [{'lineID': 'L194',\n",
       "   'characterID': 'u0',\n",
       "   'movieID': 'm0',\n",
       "   'character': 'BIANCA',\n",
       "   'text': 'Can we make this quick?  Roxanne Korrine and Andrew Barrett are having an incredibly horrendous public break- up on the quad.  Again.\\n'},\n",
       "  {'lineID': 'L195',\n",
       "   'characterID': 'u2',\n",
       "   'movieID': 'm0',\n",
       "   'character': 'CAMERON',\n",
       "   'text': \"Well, I thought we'd start with pronunciation, if that's okay with you.\\n\"},\n",
       "  {'lineID': 'L196',\n",
       "   'characterID': 'u0',\n",
       "   'movieID': 'm0',\n",
       "   'character': 'BIANCA',\n",
       "   'text': 'Not the hacking and gagging and spitting part.  Please.\\n'},\n",
       "  {'lineID': 'L197',\n",
       "   'characterID': 'u2',\n",
       "   'movieID': 'm0',\n",
       "   'character': 'CAMERON',\n",
       "   'text': \"Okay... then how 'bout we try out some French cuisine.  Saturday?  Night?\\n\"}]}"
      ]
     },
     "execution_count": 9,
     "metadata": {},
     "output_type": "execute_result"
    }
   ],
   "source": [
    "movie_conversations[0]"
   ]
  },
  {
   "cell_type": "markdown",
   "id": "b1ed0593-5505-48d2-be2d-65fd51a1a05b",
   "metadata": {},
   "source": [
    "Finally, we'll extract line pairs, in a sort of answer and response format from the corpus. We'll use the conversation information to extract the line pairs.\n",
    "\n",
    "Then, we'll save these line pairs in a TSV file."
   ]
  },
  {
   "cell_type": "code",
   "execution_count": 10,
   "id": "bdbf33e4-9fb7-4eef-830a-2db00812d70f",
   "metadata": {},
   "outputs": [
    {
     "data": {
      "text/plain": [
       "[('Can we make this quick?  Roxanne Korrine and Andrew Barrett are having an incredibly horrendous public break- up on the quad.  Again.',\n",
       "  \"Well, I thought we'd start with pronunciation, if that's okay with you.\"),\n",
       " (\"Well, I thought we'd start with pronunciation, if that's okay with you.\",\n",
       "  'Not the hacking and gagging and spitting part.  Please.'),\n",
       " ('Not the hacking and gagging and spitting part.  Please.',\n",
       "  \"Okay... then how 'bout we try out some French cuisine.  Saturday?  Night?\")]"
      ]
     },
     "execution_count": 10,
     "metadata": {},
     "output_type": "execute_result"
    }
   ],
   "source": [
    "def _get_line_pairs(convos):\n",
    "    pairs = []\n",
    "    for convo in convos:\n",
    "        # Ignore last line as it has no line to be paired with\n",
    "        for i, input_line in enumerate(convo[\"lines\"][:-1]):\n",
    "            input_line = input_line[\"text\"].strip()\n",
    "            target_line = convo[\"lines\"][i+1][\"text\"].strip()\n",
    "            \n",
    "            if input_line and target_line:  # It's possible either line is empty\n",
    "                pairs.append((input_line, target_line))\n",
    "    return pairs\n",
    "\n",
    "# Example\n",
    "_get_line_pairs([movie_conversations[0]])"
   ]
  },
  {
   "cell_type": "code",
   "execution_count": 11,
   "id": "a06c2120-8bd9-48ea-a600-ddb47a77e929",
   "metadata": {},
   "outputs": [],
   "source": [
    "import codecs\n",
    "import csv\n",
    "\n",
    "output_file = DATA_PATH / \"formatted_movie_lines.tsv\"\n",
    "delimiter = str(codecs.decode(\"\\t\", \"unicode_escape\"))  # HACK to quickly get an actual tab character\n",
    "\n",
    "with open(output_file, \"w\", encoding=\"utf-8\") as f:\n",
    "    writer = csv.writer(f, delimiter=delimiter, lineterminator=\"\\n\")\n",
    "    for pair in _get_line_pairs(movie_conversations):\n",
    "        writer.writerow(pair)"
   ]
  },
  {
   "cell_type": "code",
   "execution_count": 12,
   "id": "60efe9a0-b7a4-4d31-b430-8c8db46f3f06",
   "metadata": {},
   "outputs": [
    {
     "name": "stdout",
     "output_type": "stream",
     "text": [
      "Can we make this quick?  Roxanne Korrine and Andrew Barrett are having an incredibly horrendous public break- up on the quad.  Again.\tWell, I thought we'd start with pronunciation, if that's okay with you.\n",
      "\n",
      "Well, I thought we'd start with pronunciation, if that's okay with you.\tNot the hacking and gagging and spitting part.  Please.\n",
      "\n"
     ]
    }
   ],
   "source": [
    "# Visualize the TSV file\n",
    "_print_x_lines(2, output_file)"
   ]
  },
  {
   "cell_type": "markdown",
   "id": "06ef8342-0410-46e4-822d-85d3bae2acb9",
   "metadata": {},
   "source": [
    "If you're using SageMaker Studio Lab, you can open the actual `.tsv` file to inspect it in a more visual format."
   ]
  },
  {
   "cell_type": "markdown",
   "id": "8bf5713a-c9bf-4985-8aed-aafede9c0891",
   "metadata": {},
   "source": [
    "### Standard NLP data processing\n",
    "As the title of this subsection suggests, the next step will be applying some good old NLP data processing to the lines.\n",
    "\n",
    "So far, we processed the raw dataset into pairs of sentences that we know are part of a conversation. We will now apply standard processing pipelines to each line to facilitate the application of the models we'll apply later.\n",
    "\n",
    "As usual, this parimarily involves tokenisation and creating a vocabulary.\n",
    "\n",
    "First let's define the tokenizer. We'll use SpaCy as in previous labs but with a couple of modifications, such as removing punctuation and lowercasing everything. Also as you might have noticed in the previous steps, there were some tricks related to encodings when reading in the corpus or saving it (had to use full utf-8). We want only plain latin characters (ASCII) to remain, so we will be converting to that too and stripping out everything else."
   ]
  },
  {
   "cell_type": "code",
   "execution_count": 14,
   "id": "915df85b-75fb-437a-9cff-fa4dc9e0012e",
   "metadata": {},
   "outputs": [
    {
     "name": "stdout",
     "output_type": "stream",
     "text": [
      "Before tokenization: Okay... then how 'bout we try out some French cuisine.  Saturday?  Night?\n",
      "\n",
      "After tokenization: ['okay', '...', 'then', 'how', \"'bout\", 'we', 'try', 'out', 'some', 'french', 'cuisine', '.', 'saturday', '?', 'night', '?']\n"
     ]
    }
   ],
   "source": [
    "import re\n",
    "import unicodedata\n",
    "\n",
    "from torchtext.data.utils import get_tokenizer\n",
    "\n",
    "class SpacyTokenizer(torch.nn.Module):\n",
    "    def __init__(self):\n",
    "        super().__init__()\n",
    "        self.tokenizer = get_tokenizer(\"spacy\", language=\"en_core_web_sm\")\n",
    "        \n",
    "    # Turn a Unicode string to plain ASCII, thanks to\n",
    "    # https://stackoverflow.com/a/518232/2809427\n",
    "    def _unicode_to_ascii(self, sentence):\n",
    "        return ''.join(\n",
    "            c for c in unicodedata.normalize('NFD', sentence)\n",
    "            if unicodedata.category(c) != 'Mn'\n",
    "        )\n",
    "        \n",
    "    def tokenize_sentence(self, sentence):\n",
    "        # To ASCII and to lower\n",
    "        sentence = self._unicode_to_ascii(sentence.lower().strip())\n",
    "        # Tokenize\n",
    "        sentence = self.tokenizer(sentence)\n",
    "        # Remove extra puncutation\n",
    "        sentence = [re.sub(r\"[^a-zA-Z.'!?]+\", \"\", token) for token in sentence]\n",
    "        # Remove empty strings\n",
    "        sentence = [token for token in sentence if token]\n",
    "        return sentence\n",
    "        \n",
    "    \n",
    "    def forward(self, input):\n",
    "        if isinstance(input, list):\n",
    "            tokens = []\n",
    "            for text in input:\n",
    "                tokens.append(self.tokenize_sentence(text))\n",
    "            return tokens\n",
    "        elif isinstance(input, str):\n",
    "            return self.tokenize_sentence(input)\n",
    "        raise ValueError(f\"Type {type(input)} is not supported.\")\n",
    "\n",
    "# Example\n",
    "line = movie_lines[\"L197\"][\"text\"]\n",
    "print(f\"Before tokenization: {line}\")\n",
    "tokenizer = SpacyTokenizer()\n",
    "print(f\"After tokenization: {tokenizer(line)}\")"
   ]
  },
  {
   "cell_type": "markdown",
   "id": "a1569578-b937-45b6-8825-d72dc80ac2c0",
   "metadata": {},
   "source": [
    "Now that we have our tokenizer, next step is to apply it to our line pairs and build a vocabulary from it.\n",
    "\n",
    "First, let's actually load our line pairs into memory."
   ]
  },
  {
   "cell_type": "code",
   "execution_count": 15,
   "id": "88b04868-5df4-46f4-8cdb-e18a93e17d3d",
   "metadata": {},
   "outputs": [],
   "source": [
    "import csv\n",
    "\n",
    "DATA_PATH = Path(\"cornell movie-dialogs corpus\")\n",
    "\n",
    "def _load_pair_data():\n",
    "    with open(DATA_PATH / \"formatted_movie_lines.tsv\", \"r\", encoding=\"utf-8\") as f:\n",
    "        pairs = list(csv.reader(f, delimiter=\"\\t\"))\n",
    "    return pairs\n",
    "        \n",
    "movie_line_pairs = _load_pair_data()"
   ]
  },
  {
   "cell_type": "code",
   "execution_count": 16,
   "id": "afb2dd2f-9fec-4007-a2d1-860f09ba121b",
   "metadata": {},
   "outputs": [
    {
     "data": {
      "text/plain": [
       "['Can we make this quick?  Roxanne Korrine and Andrew Barrett are having an incredibly horrendous public break- up on the quad.  Again.',\n",
       " \"Well, I thought we'd start with pronunciation, if that's okay with you.\"]"
      ]
     },
     "execution_count": 16,
     "metadata": {},
     "output_type": "execute_result"
    }
   ],
   "source": [
    "movie_line_pairs[0]"
   ]
  },
  {
   "cell_type": "markdown",
   "id": "7b4a83ef-9f8a-4d4d-9d51-5527760ec62e",
   "metadata": {},
   "source": [
    "Before we continue, we'll trim our dataset to only include lines that are on the shorter end ($10$ words or less)."
   ]
  },
  {
   "cell_type": "code",
   "execution_count": 17,
   "id": "4c444d17-490e-48a7-b336-379b6f1f7dd7",
   "metadata": {},
   "outputs": [
    {
     "name": "stdout",
     "output_type": "stream",
     "text": [
      "Original dataset size: 221282 pairs\n"
     ]
    },
    {
     "name": "stderr",
     "output_type": "stream",
     "text": [
      "100%|████████████████████████████████████████████████████████████████████████| 221282/221282 [00:31<00:00, 6938.96it/s]"
     ]
    },
    {
     "name": "stdout",
     "output_type": "stream",
     "text": [
      "Trimmed dataset size: 66973 pairs\n",
      "CPU times: total: 20.5 s\n",
      "Wall time: 32.6 s\n"
     ]
    },
    {
     "name": "stderr",
     "output_type": "stream",
     "text": [
      "\n"
     ]
    }
   ],
   "source": [
    "%%time\n",
    "from tqdm import tqdm\n",
    "\n",
    "MAX_LENGTH = 10\n",
    "\n",
    "def filter_pairs(pairs, max_length: int):\n",
    "    tokenizer = SpacyTokenizer()\n",
    "    \n",
    "    def _keep_pair(pair):\n",
    "        return len(tokenizer(pair[0])) < max_length\\\n",
    "            and len(tokenizer(pair[1])) < max_length\n",
    "\n",
    "    out_pairs = []\n",
    "    for pair in tqdm(pairs):\n",
    "        if _keep_pair(pair):\n",
    "            out_pairs.append(pair)\n",
    "    return out_pairs\n",
    "\n",
    "print(f\"Original dataset size: {len(movie_line_pairs)} pairs\")\n",
    "trimmed_movie_line_pairs = filter_pairs(movie_line_pairs, MAX_LENGTH)\n",
    "print(f\"Trimmed dataset size: {len(trimmed_movie_line_pairs)} pairs\")"
   ]
  },
  {
   "cell_type": "markdown",
   "id": "a5944e73-0072-4053-81b4-d5f124da02d9",
   "metadata": {},
   "source": [
    "Next we'll use our usual Vocab building methods using torchtext to build our vocabulary.\n",
    "\n",
    "We'll also include a Beginning of Sentence (BOS) and End of Sentence (EOS) special tokens alongside our typical Uknown (UNK) and Padding (PAD) special tokens.\n",
    "\n",
    "Additionally, we'll only include words in our vocab that appear a minimum of $3$ times."
   ]
  },
  {
   "cell_type": "code",
   "execution_count": 18,
   "id": "1bbc1efe-cd72-4371-8cb2-815fea214733",
   "metadata": {},
   "outputs": [],
   "source": [
    "from torchtext.vocab import build_vocab_from_iterator\n",
    "\n",
    "tokenizer = SpacyTokenizer()\n",
    "MIN_FREQ = 3\n",
    "\n",
    "def _process_pairs_for_vocab(data):\n",
    "    for pairs in data:  # Add tokens from both lines in the pair\n",
    "        yield tokenizer(pairs[0]) + tokenizer(pairs[1])\n",
    "\n",
    "text_vocab = build_vocab_from_iterator(\n",
    "    _process_pairs_for_vocab(trimmed_movie_line_pairs),\n",
    "    specials=('<unk>', '<pad>', '<bos>', '<eos>'),\n",
    "    min_freq=MIN_FREQ\n",
    ")"
   ]
  },
  {
   "cell_type": "code",
   "execution_count": 19,
   "id": "460aaf96-1fc0-4fd4-af90-58f2e5be28ec",
   "metadata": {},
   "outputs": [
    {
     "name": "stdout",
     "output_type": "stream",
     "text": [
      "Unique tokens in vocabulary: 8135\n",
      "\n",
      "First 20 tokens: \n",
      "['<unk>', '<pad>', '<bos>', '<eos>', '.', '?', 'you', 'i', 'what', \"'s\", 'it', '...', '!', 'the', 'do', 'a', \"n't\", 'to', 'that', 'is']\n"
     ]
    }
   ],
   "source": [
    "print(f\"Unique tokens in vocabulary: {len(text_vocab)}\")\n",
    "print(\"\\nFirst 20 tokens: \")\n",
    "print(text_vocab.get_itos()[:20])"
   ]
  },
  {
   "cell_type": "markdown",
   "id": "9bdcdbb4-4e61-475e-84e5-af27656903d4",
   "metadata": {},
   "source": [
    "Next we'll filter our dataset again to only include pairs where both lines contain tokens that are found in our vocabulary, i.e. tokens that weren't filtered by our minimum frequency rule."
   ]
  },
  {
   "cell_type": "code",
   "execution_count": 20,
   "id": "d5bf8d3e-04e0-4fc0-96f5-1c37f903266f",
   "metadata": {},
   "outputs": [
    {
     "name": "stdout",
     "output_type": "stream",
     "text": [
      "Original trimmed dataset size: 66973 pairs.\n"
     ]
    },
    {
     "name": "stderr",
     "output_type": "stream",
     "text": [
      "Trimming pairs based on vocab...: 100%|████████████████████████████████████████| 66973/66973 [00:06<00:00, 9652.74it/s]"
     ]
    },
    {
     "name": "stdout",
     "output_type": "stream",
     "text": [
      "Final dataset size: 55357 pairs.\n",
      "CPU times: total: 5.16 s\n",
      "Wall time: 7.57 s\n"
     ]
    },
    {
     "name": "stderr",
     "output_type": "stream",
     "text": [
      "\n"
     ]
    }
   ],
   "source": [
    "%%time\n",
    "from tqdm import tqdm\n",
    "\n",
    "def filter_pairs(pairs, vocab):\n",
    "    tokenizer = SpacyTokenizer()    \n",
    "    vocab_tokens = set(vocab.get_itos())\n",
    "    \n",
    "    def _keep_pair(pair):\n",
    "        tokens = set(tokenizer(pair[0]) + tokenizer(pair[1]))\n",
    "        for token in tokens:\n",
    "            if token not in vocab_tokens:\n",
    "                return False\n",
    "        return True\n",
    "    \n",
    "    out_pairs = []\n",
    "    for pair in tqdm(pairs, desc=\"Trimming pairs based on vocab...\"):\n",
    "        if _keep_pair(pair):\n",
    "            out_pairs.append(pair)\n",
    "    return out_pairs\n",
    "\n",
    "print(f\"Original trimmed dataset size: {len(trimmed_movie_line_pairs)} pairs.\")\n",
    "final_movie_line_pairs = filter_pairs(trimmed_movie_line_pairs, text_vocab)\n",
    "print(f\"Final dataset size: {len(final_movie_line_pairs)} pairs.\")"
   ]
  },
  {
   "cell_type": "markdown",
   "id": "547f2301-be64-4a93-a228-59c4e2da6af1",
   "metadata": {},
   "source": [
    "The final step is to define processing pipelines and data loaders.\n",
    "\n",
    "We want to apply the following transformations to our data:\n",
    "- For inputs (first of the two sentences in each pair):\n",
    "  1. Tokenize\n",
    "  2. Transform into vocabulary indices\n",
    "  3. Add the EOS token\n",
    "  4. Do the following:\n",
    "     1. Get the length of this tokenized sentence.\n",
    "     2. Pad this tokenized sentence to the maximum length of the batch and convert to a tensor. \n",
    "  - To this end, we'll use `input_transform_common` for steps 1 through 4. On top of that, we'll use `inputs_transform` for 4.2 and and `lengths_transform` for 4.1. To extract sentence lengths we'll define a `ToLengths` transform.\n",
    "\n",
    "- For outputs (second of the two sentences in each pair):\n",
    "  1. Tokenize\n",
    "  2. Transform into vocabulary indices\n",
    "  3. Add the EOS token\n",
    "  4. Do the following:\n",
    "     1. Get the maximum tokenized sentence length.\n",
    "     2. Pad this tokenized sentence to the maximum length of the batch and convert to a tensor.\n",
    "     3. Create a mask that has 0 for each token that is not padding, and 1 for each token that is.\n",
    "  - We'll use `output_transform_common` for steps 1 through 4, then `output_transform` for step 4.2 and `mask_transform` for step 4.3. For step 4.1 we'll use a tiny bit of Python code when we actually apply the transforms to extract this maximum length from the results of `output_transform_common`. For the mask transform we'll define a custom transformation to quickly do that.\n",
    "\n",
    "Applying this processing with typical torchtext and some custom transforms will lead to the first dimension of our batch being the actual batch size, and the second dimension being the tokens. However, for each time step, we want to be able to retrieve all the words for that time step in the batch easily, so we will also be donig a transpose in our actual `collate_batch` function.\n",
    "\n",
    "![](https://pytorch.org/tutorials/_images/seq2seq_batches.png)"
   ]
  },
  {
   "cell_type": "code",
   "execution_count": 21,
   "id": "0fb93142-097f-4085-a77e-5f8646dd8a3c",
   "metadata": {},
   "outputs": [],
   "source": [
    "import torchtext.transforms as T\n",
    "\n",
    "class ToLengths(torch.nn.Module):\n",
    "    \"\"\"Converts a list to its length or a list of lists to a list of lengths.\"\"\"\n",
    "    def forward(self, input):\n",
    "        if isinstance(input[0], list) or isinstance(input[0], torch.Tensor):\n",
    "            lengths = []\n",
    "            for text in input:\n",
    "                lengths.append(len(text))\n",
    "            return lengths\n",
    "        elif isinstance(input, list) or isinstance(input, torch.Tensor):\n",
    "            return len(input)\n",
    "        raise ValueError(f\"Type {type(input)} is not supported.\")\n",
    "\n",
    "class PaddingMask(torch.nn.Module):\n",
    "    \"\"\"Converts a list of padded sequences to a binary mask that shows which tokens are padding.\"\"\"\n",
    "    def __init__(self, padding_value):\n",
    "        super().__init__()\n",
    "        self.padding_value = padding_value\n",
    "        \n",
    "    def _to_mask(self, sequence):\n",
    "        return [0 if token == self.padding_value else 1 for token in sequence]\n",
    "    \n",
    "    def forward(self, input):\n",
    "        if isinstance(input[0], list) or isinstance(input[0], torch.Tensor):\n",
    "            return [self._to_mask(seq) for seq in input]\n",
    "        elif isinstance(input, list) or isinstance(input, torch.Tensor):\n",
    "            return self._to_mask(input)\n",
    "        raise ValueError(f\"Type {type(input)} is not supported.\")\n",
    "\n",
    "\n",
    "input_transform_common = T.Sequential(\n",
    "    SpacyTokenizer(),  # Tokenize\n",
    "    T.VocabTransform(text_vocab),  # Convert to vocab IDs\n",
    "    T.AddToken(token=text_vocab[\"<eos>\"], begin=False),  # Add EOS\n",
    ")\n",
    "\n",
    "input_transform = T.Sequential(\n",
    "    T.ToTensor(padding_value=text_vocab[\"<pad>\"]),  # Convert to tensor and pad\n",
    ")\n",
    "\n",
    "lengths_transform = T.Sequential(\n",
    "    ToLengths(),\n",
    "    T.ToTensor(),\n",
    ")\n",
    "\n",
    "output_transform_common = T.Sequential(\n",
    "    SpacyTokenizer(),  # Tokenize\n",
    "    T.VocabTransform(text_vocab),  # Convert to vocab IDs\n",
    "    T.AddToken(token=text_vocab[\"<eos>\"], begin=False),  # Add EOS\n",
    ")\n",
    "\n",
    "output_transform = T.Sequential(\n",
    "    T.ToTensor(padding_value=text_vocab[\"<pad>\"]),  # Convert to tensor and pad\n",
    ")\n",
    "\n",
    "mask_transform = T.Sequential(\n",
    "    PaddingMask(padding_value=text_vocab[\"<pad>\"]),\n",
    "    T.ToTensor(dtype=bool),\n",
    ")"
   ]
  },
  {
   "cell_type": "code",
   "execution_count": 22,
   "id": "3fc89e43-9e43-4e51-a4b0-14ceaf6183c4",
   "metadata": {},
   "outputs": [],
   "source": [
    "from torch.utils.data import DataLoader\n",
    "\n",
    "BATCH_SIZE = 64\n",
    "\n",
    "def collate_batch(batch):\n",
    "    # Sort in the batch using reverse order of input length\n",
    "    sort_tokenizer = SpacyTokenizer()\n",
    "    batch.sort(key=lambda x: len(sort_tokenizer(x[0])), reverse=True)\n",
    "\n",
    "    inputs, outputs = zip(*batch)\n",
    "    \n",
    "    # Input processing\n",
    "    inputs = input_transform_common(list(inputs))\n",
    "    lengths = lengths_transform(inputs)\n",
    "    inputs = input_transform(inputs)\n",
    "    \n",
    "    # Output processing\n",
    "    outputs = output_transform_common(list(outputs))\n",
    "    max_output_length = max([len(output)for output in outputs])  # Step 4.1\n",
    "    outputs = output_transform(outputs)\n",
    "    mask = mask_transform(outputs)\n",
    "\n",
    "    # Transpose\n",
    "    inputs = inputs.T\n",
    "    outputs = outputs.T\n",
    "    mask = mask.T\n",
    "\n",
    "    # Ensure boolean dtype for mask due to a torchtext bug.\n",
    "    mask = mask.bool()\n",
    "\n",
    "    return inputs.to(DEVICE), lengths.to(\"cpu\"), outputs.to(DEVICE), mask.to(DEVICE), max_output_length\n",
    "\n",
    "def _get_dataloader(data, batch_size):\n",
    "    return DataLoader(data, batch_size=batch_size, shuffle=True, collate_fn=collate_batch)\n",
    "\n",
    "dataloader = _get_dataloader(final_movie_line_pairs, BATCH_SIZE)"
   ]
  },
  {
   "cell_type": "markdown",
   "id": "30855493-676c-41e4-8654-cff24cc02377",
   "metadata": {},
   "source": [
    "We can then inspect the DataLoader and our batches a little bit."
   ]
  },
  {
   "cell_type": "code",
   "execution_count": 23,
   "id": "02fb8ec2-ff9f-4b8c-9bb9-1c6ab691cbb5",
   "metadata": {},
   "outputs": [
    {
     "name": "stdout",
     "output_type": "stream",
     "text": [
      "Inputs: tensor([[ 120,    6,  126,   36,   46],\n",
      "        [  29,   30, 1457,  211,    5],\n",
      "        [  33,   48,    4,    4,    3],\n",
      "        [ 457,  247,    3,    3,    1],\n",
      "        [ 291,   12,    1,    1,    1],\n",
      "        [   5,    3,    1,    1,    1],\n",
      "        [   3,    1,    1,    1,    1]], device='cuda:0')\n",
      "Inputs size: torch.Size([7, 5])\n",
      "Input Lengths: tensor([7, 6, 4, 4, 3])\n",
      "\n",
      "Outputs: tensor([[   7,   38,  766,   38,   50],\n",
      "        [  14,   18,    4,    4, 2385],\n",
      "        [  16,    9,  128,   23,   11],\n",
      "        [  28,   56,  179,  968,    8],\n",
      "        [   4,    4,   17,   45,  654],\n",
      "        [   3,    3,  335,   56,    5],\n",
      "        [   1,    1,    6,    5,    3],\n",
      "        [   1,    1,    4,    3,    1],\n",
      "        [   1,    1,    3,    1,    1]], device='cuda:0')\n",
      "Inputs size: torch.Size([9, 5])\n",
      "Output Padding Mask: tensor([[ True,  True,  True,  True,  True],\n",
      "        [ True,  True,  True,  True,  True],\n",
      "        [ True,  True,  True,  True,  True],\n",
      "        [ True,  True,  True,  True,  True],\n",
      "        [ True,  True,  True,  True,  True],\n",
      "        [ True,  True,  True,  True,  True],\n",
      "        [False, False,  True,  True,  True],\n",
      "        [False, False,  True,  True, False],\n",
      "        [False, False,  True, False, False]], device='cuda:0')\n",
      "Padding mask size: torch.Size([9, 5])\n",
      "Max Output length: 9\n",
      "\n",
      "Padding token value: 1\n"
     ]
    }
   ],
   "source": [
    "test_dataloader = _get_dataloader(final_movie_line_pairs, 5)  # Small batch size as a test\n",
    "\n",
    "inputs, lengths, outputs, mask, max_output_length = next(iter(test_dataloader))\n",
    "print(f\"Inputs: {inputs}\")\n",
    "print(f\"Inputs size: {inputs.size()}\")\n",
    "print(f\"Input Lengths: {lengths}\")\n",
    "print(f\"\\nOutputs: {outputs}\")\n",
    "print(f\"Inputs size: {outputs.size()}\")\n",
    "print(f\"Output Padding Mask: {mask}\")\n",
    "print(f\"Padding mask size: {mask.size()}\")\n",
    "print(f\"Max Output length: {max_output_length}\")\n",
    "print(f\"\\nPadding token value: {text_vocab['<pad>']}\")"
   ]
  },
  {
   "cell_type": "markdown",
   "id": "d7855b4d-81af-4c57-bac0-4dfe414fd906",
   "metadata": {},
   "source": [
    "As a sanity check, you may notice that the input lengths correspond to the amount of items in the input sequences that aren't padded (the value isn't the padding token value of `1`). Additionally you may notice that in the output padding mask, the value of `0` does indeed correspond to the items in the `outputs` tensor where the padding token `1` is present. The maximum output length also correctly corresponds to the maximum length of the unpadded output tensors. "
   ]
  },
  {
   "cell_type": "markdown",
   "id": "768cd75b-6fa2-47f4-b122-ce1a8b8be05d",
   "metadata": {
    "tags": []
   },
   "source": [
    "# Creating our Models\n",
    "The brains of our chatbot is a sequence-to-sequence (seq2seq) model. The goal of a seq2seq model is to take a variable-length sequence as an input, and return a variable-length sequence as an output using a fixed-sized model.\n",
    "\n",
    "[Sutskever et al.](https://arxiv.org/abs/1409.3215) discovered that by using two separate recurrent neural nets together, we can accomplish this task. One RNN acts as an **encoder**, which encodes a variable length input sequence to a fixed-length context vector. In theory, this context vector (the final hidden layer of the RNN) will contain semantic information about the query sentence that is input to the bot. The second RNN is a **decoder**, which takes an input word and the context vector, and returns a guess for the next word in the sequence and a hidden state to use in the next iteration.\n",
    "\n",
    "![](https://pytorch.org/tutorials/_images/seq2seq_ts.png)\n",
    "\n"
   ]
  },
  {
   "cell_type": "markdown",
   "id": "0dd784c4-6275-47a6-8801-67d12ec19ae9",
   "metadata": {},
   "source": [
    "## Encoder\n",
    "As our encoder, we will use a very similar architecture to we saw in previous labs in this module: a Bi-directional Recurrent Neural Network. As our RNN architecture, we will use GRUs.\n",
    "\n",
    "We will of course also have an embedding layer, but unlike previous labs, it won't live in our model. We will want the embeddings to be consistent across our Encoder and Decoder so we will have the embedding layer be a reference to a pre-defined layer that will come in as an argument at Encoder instantiation time.\n",
    "\n",
    "Besides that, the rest is just as in previous labs. To pass our sequences through the RNN, we will use the `pack_padded_sequence` utility along with the lengths we computed in our dataset preparation, and after we have run it through our recurrent model we will unpack it using `pad_packed_sequence`. We will also sum the bidirectional GRU outputs accordingly."
   ]
  },
  {
   "cell_type": "code",
   "execution_count": 24,
   "id": "5feaa118-3de2-4fdf-9689-4dbe098ad982",
   "metadata": {},
   "outputs": [],
   "source": [
    "from torch import nn\n",
    "\n",
    "class EncoderRNN(nn.Module):\n",
    "    def __init__(self, hidden_size, embedding, n_layers=1, dropout=0):\n",
    "        super(EncoderRNN, self).__init__()\n",
    "        self.n_layers = n_layers\n",
    "        self.hidden_size = hidden_size\n",
    "        self.embedding = embedding\n",
    "\n",
    "        # Initialize GRU; the input_size and hidden_size params are both set to 'hidden_size'\n",
    "        #   because our input size is a word embedding with number of features == hidden_size\n",
    "        self.gru = nn.GRU(hidden_size, hidden_size, n_layers,\n",
    "                          dropout=(0 if n_layers == 1 else dropout), bidirectional=True)\n",
    "\n",
    "    def forward(self, inputs, lengths, hidden=None):\n",
    "        # Convert word indexes to embeddings & pack padded sequences\n",
    "        embedded = self.embedding(inputs)\n",
    "        packed = nn.utils.rnn.pack_padded_sequence(embedded, lengths)\n",
    "\n",
    "        # Forward pass through GRU & unpack\n",
    "        outputs, hidden = self.gru(packed, hidden)\n",
    "        outputs, _ = nn.utils.rnn.pad_packed_sequence(outputs)\n",
    "\n",
    "        # Sum bidirectional GRU outputs & output\n",
    "        outputs = outputs[:, :, :self.hidden_size] + outputs[:, : ,self.hidden_size:]\n",
    "        return outputs, hidden"
   ]
  },
  {
   "cell_type": "markdown",
   "id": "d594b757-7ac1-47c5-bd6a-e84990b13f9b",
   "metadata": {},
   "source": [
    "## Decoder\n",
    "The decoder RNN generates the response sentence in a token-by-token fashion. It uses the encoder’s context vectors, and internal hidden states to generate the next word in the sequence. It continues generating words until it outputs an EOS token, which if you remember we included in every line in our dataset processing pipelines.\n",
    "\n",
    "A common problem with a vanilla seq2seq decoder is that if we rely solely on the context vector to encode the entire input sequence’s meaning, it is likely that we will have information loss. This is especially the case when dealing with long input sequences, greatly limiting the capability of our decoder.\n",
    "\n",
    "To combat this, [Bahdanau et al.](https://arxiv.org/abs/1409.0473) created an “attention mechanism” that allows the decoder to pay attention to certain parts of the input sequence, rather than using the entire fixed context at every step.\n",
    "\n",
    "At a high level, attention is calculated using the decoder’s current hidden state and the encoder’s outputs. The output attention weights have the same shape as the input sequence, allowing us to multiply them by the encoder outputs, giving us a weighted sum which indicates the parts of encoder output to pay attention to. [Sean Robertson’s](https://github.com/spro) figure describes this very well:\n",
    "\n",
    "![](https://pytorch.org/tutorials/_images/attn2.png)\n",
    "\n",
    "[Luong et al.](https://arxiv.org/abs/1508.04025) improved upon Bahdanau et al.’s groundwork by creating “Global attention”. The key difference is that with “Global attention”, we consider all of the encoder’s hidden states, as opposed to Bahdanau et al.’s “Local attention”, which only considers the encoder’s hidden state from the current time step. Another difference is that with “Global attention”, we calculate attention weights, or energies, using the hidden state of the decoder from the current time step only. Bahdanau et al.’s attention calculation requires knowledge of the decoder’s state from the previous time step. Also, Luong et al. provides various methods to calculate the attention energies between the encoder output and decoder output which are called “score functions”:\n",
    "\n",
    "$score(\\mathbf{h}_t,\\bar{\\mathbf{h}}_s)=\\begin{cases}\n",
    "    \\mathbf{h}_t^T\\bar{\\mathbf{h}}_s & \\text{dot}\\\\\n",
    "    \\mathbf{h}_t^T\\mathbf{W}_\\alpha \\bar{\\mathbf{h}}_s & \\text{general}\\\\\n",
    "    \\mathbf{v}_\\alpha^T \\tanh (\\mathbf{W}_\\alpha[\\mathbf{h}_t;\\bar{\\mathbf{h}}_s]) & \\text{concat}\\\\\n",
    "\\end{cases}$\n",
    "\n",
    "where $\\mathbf{h}_t$ = current target decoder state and $\\bar{\\mathbf{h}}_s$ = all encoder states.\n",
    "\n",
    "Overall, the Global attention mechanism can be summarized by the following figure. Note that we will implement the “Attention Layer” as a separate `nn.Module` called Attn. The output of this module is a softmax normalized weights tensor of shape *(batch_size, 1, max_length)*.\n",
    "\n",
    "![](https://pytorch.org/tutorials/_images/global_attn.png)"
   ]
  },
  {
   "cell_type": "code",
   "execution_count": 25,
   "id": "757319f1-8cb0-4ae8-9f4f-0551eb1b796a",
   "metadata": {},
   "outputs": [],
   "source": [
    "from torch import nn\n",
    "import torch.nn.functional as F\n",
    "\n",
    "class Attn(nn.Module):\n",
    "    \"\"\"Luong attention layer\"\"\"\n",
    "    def __init__(self, method, hidden_size):\n",
    "        super(Attn, self).__init__()\n",
    "        self.method = method\n",
    "        # Different methods to compute attention energy according to the equation above\n",
    "        if self.method not in ['dot', 'general', 'concat']:\n",
    "            raise ValueError(self.method, \"is not an appropriate attention method.\")\n",
    "\n",
    "        self.hidden_size = hidden_size\n",
    "        if self.method == 'general':  # Weight matrix W for general attention method\n",
    "            self.attn = nn.Linear(self.hidden_size, hidden_size)\n",
    "        elif self.method == 'concat':  # Weight matrix W and weight vector v for concat attention method\n",
    "            self.attn = nn.Linear(self.hidden_size * 2, hidden_size)\n",
    "            self.v = nn.Parameter(torch.FloatTensor(hidden_size))\n",
    "\n",
    "    def dot_score(self, hidden, encoder_output):\n",
    "        \"\"\"Dot method implementation.\"\"\"\n",
    "        return torch.sum(hidden * encoder_output, dim=2)\n",
    "\n",
    "    def general_score(self, hidden, encoder_output):\n",
    "        \"\"\"General method implementation.\"\"\"\n",
    "        energy = self.attn(encoder_output)\n",
    "        return torch.sum(hidden * energy, dim=2)\n",
    "\n",
    "    def concat_score(self, hidden, encoder_output):\n",
    "        \"\"\"Concat method implementation.\"\"\"\n",
    "        energy = self.attn(torch.cat((hidden.expand(encoder_output.size(0), -1, -1), encoder_output), 2)).tanh()\n",
    "        return torch.sum(self.v * energy, dim=2)\n",
    "\n",
    "    def forward(self, hidden, encoder_outputs):\n",
    "        \"\"\"Calculate the attention weights (energies) based on the given method\"\"\"\n",
    "        if self.method == 'general':\n",
    "            attn_energies = self.general_score(hidden, encoder_outputs)\n",
    "        elif self.method == 'concat':\n",
    "            attn_energies = self.concat_score(hidden, encoder_outputs)\n",
    "        elif self.method == 'dot':\n",
    "            attn_energies = self.dot_score(hidden, encoder_outputs)\n",
    "\n",
    "        # Transpose max_length and batch_size dimensions\n",
    "        attn_energies = attn_energies.t()\n",
    "\n",
    "        # Return the softmax normalized probability scores (with added dimension)\n",
    "        return F.softmax(attn_energies, dim=1).unsqueeze(1)\n",
    "    \n",
    "class LuongAttnDecoderRNN(nn.Module):\n",
    "    def __init__(self, attn_model, embedding, hidden_size, output_size, n_layers=1, dropout=0.1):\n",
    "        super(LuongAttnDecoderRNN, self).__init__()\n",
    "\n",
    "        # Keep for reference\n",
    "        self.attn_model = attn_model\n",
    "        self.hidden_size = hidden_size\n",
    "        self.output_size = output_size\n",
    "        self.n_layers = n_layers\n",
    "        self.dropout = dropout\n",
    "\n",
    "        # Define layers\n",
    "        self.embedding = embedding\n",
    "        self.embedding_dropout = nn.Dropout(dropout)\n",
    "        self.gru = nn.GRU(hidden_size, hidden_size, n_layers, dropout=(0 if n_layers == 1 else dropout))\n",
    "        self.concat = nn.Linear(hidden_size * 2, hidden_size)\n",
    "        self.out = nn.Linear(hidden_size, output_size)\n",
    "\n",
    "        self.attn = Attn(attn_model, hidden_size)\n",
    "\n",
    "    def forward(self, input_step, last_hidden, encoder_outputs):\n",
    "        embedded = self.embedding(input_step)  # 1. Get embedding of current word\n",
    "        embedded = self.embedding_dropout(embedded)  # 1.5 Dropout on the embeddings\n",
    "        \n",
    "        rnn_output, hidden = self.gru(embedded, last_hidden)  # 2. Forward through unidirectional GRU\n",
    "        attn_weights = self.attn(rnn_output, encoder_outputs)  # 3. Calculate attention weights from the current GRU output\n",
    "        context = attn_weights.bmm(encoder_outputs.transpose(0, 1)) # 4. Multiply attention weights to encoder outputs to get\n",
    "                                                                    # new \"weighted sum\" context vector\n",
    "        rnn_output = rnn_output.squeeze(0)  # 5. Concatenate weighted context vector and GRU output using Luong eq. 5\n",
    "        context = context.squeeze(1)\n",
    "        concat_input = torch.cat((rnn_output, context), 1)\n",
    "        concat_output = torch.tanh(self.concat(concat_input))\n",
    "\n",
    "        output = self.out(concat_output) # 6. Predict next word using Luong eq. 6\n",
    "        output = F.softmax(output, dim=1) # 7. Return output and final hidden state\n",
    "        return output, hidden"
   ]
  },
  {
   "cell_type": "markdown",
   "id": "00355cfa-1351-4eaf-9223-ddb588acaa08",
   "metadata": {},
   "source": [
    "# Training\n",
    "Since we are dealing with batches of padded sequences, we cannot simply consider all elements of the tensor when calculating loss. We define `maskNLLLoss` to calculate our loss based on our decoder’s output tensor, the target tensor, and a binary mask tensor describing the padding of the target tensor. This loss function calculates the average negative log likelihood of the elements that correspond to a 1 in the mask tensor."
   ]
  },
  {
   "cell_type": "code",
   "execution_count": 26,
   "id": "b0df67eb-3aa7-481a-a6dd-b9a193ce1db0",
   "metadata": {},
   "outputs": [],
   "source": [
    "def maskNLLLoss(inp, target, mask):\n",
    "    nTotal = mask.sum()\n",
    "    crossEntropy = -torch.log(torch.gather(inp, 1, target.view(-1, 1)).squeeze(1))\n",
    "    loss = crossEntropy.masked_select(mask).mean()\n",
    "    loss = loss.to(DEVICE)\n",
    "    return loss, nTotal.item()"
   ]
  },
  {
   "cell_type": "markdown",
   "id": "248268a7",
   "metadata": {},
   "source": [
    "We will use a couple of clever tricks to aid in convergence:\n",
    "\n",
    "1. The first trick is using **teacher forcing**. This means that at some probability, set by `teacher_forcing_ratio`, we use the current target word as the decoder’s next input rather than using the decoder’s current guess. This technique acts as training wheels for the decoder, aiding in more efficient training. However, teacher forcing can lead to model instability during inference, as the decoder may not have a sufficient chance to truly craft its own output sequences during training. Thus, we must be mindful of how we are setting the `teacher_forcing_ratio`, and not be fooled by fast convergence.\n",
    "\n",
    "2. The second trick that we implement is **gradient clipping**. This is a commonly used technique for countering the “exploding gradient” problem. In essence, by clipping or thresholding gradients to a maximum value, we prevent the gradients from growing exponentially and either overflow (`NaN`), or overshoot steep cliffs in the cost function.\n",
    "\n",
    "![](https://pytorch.org/tutorials/_images/grad_clip.png)\n",
    "\n",
    "Overall, the training process will involve the following sequence:\n",
    "\n",
    "1. Forward pass entire input batch through encoder.\n",
    "2. Initialize decoder inputs as the BOS token, and hidden state as the encoder’s final hidden state.\n",
    "3. Forward the input batch through the decoder one time step at a time.\n",
    "4. If teacher forcing: set next decoder input as the current target; else: set next decoder input as current decoder output.\n",
    "5. Calculate and accumulate loss.\n",
    "6. Perform backpropagation.\n",
    "7. Clip gradients.\n",
    "8. Update encoder and decoder model parameters."
   ]
  },
  {
   "cell_type": "code",
   "execution_count": 27,
   "id": "070f2053",
   "metadata": {},
   "outputs": [],
   "source": [
    "def train_step(\n",
    "    inputs, lengths,  # Input\n",
    "    outputs, mask, max_target_len,  # Output\n",
    "    encoder, decoder,  # Models\n",
    "    encoder_optimizer, decoder_optimizer,  # Optimizers\n",
    "    clip, teacher_forcing_ratio  # Hyper parameters.\n",
    "):\n",
    "    \"\"\"Train function to be run for a single data point.\"\"\"\n",
    "    # Implicit batch size\n",
    "    batch_size = inputs.size()[1]\n",
    "\n",
    "    # Zero gradients\n",
    "    encoder_optimizer.zero_grad()\n",
    "    decoder_optimizer.zero_grad()\n",
    "\n",
    "    # Lengths for rnn packing should always be on the CPU\n",
    "    lengths = lengths.to(\"cpu\")\n",
    "\n",
    "    # Initialize variables\n",
    "    loss, print_losses, n_totals = 0, [], 0\n",
    "\n",
    "    # Forward pass through encoder\n",
    "    encoder_outputs, encoder_hidden = encoder(inputs, lengths)\n",
    "\n",
    "    # Create initial decoder input & Set initial decoder hidden state to the encoder's final hidden state\n",
    "    decoder_input = torch.LongTensor([[text_vocab[\"<bos>\"] for _ in range(batch_size)]]).to(DEVICE)\n",
    "    decoder_hidden = encoder_hidden[:decoder.n_layers]\n",
    "\n",
    "    # HACK Teacher Forcing - Determine if we are using teacher forcing this iteration\n",
    "    use_teacher_forcing = True if random.random() < teacher_forcing_ratio else False\n",
    "\n",
    "    # Forward batch of sequences through decoder one time step at a time\n",
    "    for t in range(max_target_len):\n",
    "        decoder_output, decoder_hidden = decoder(\n",
    "            decoder_input, decoder_hidden, encoder_outputs\n",
    "        )\n",
    "\n",
    "        if use_teacher_forcing:  # HACK Teacher forcing: next input is current target\n",
    "            decoder_input = outputs[t].view(1, -1)\n",
    "        else:  # next input is decoder's own current output\n",
    "            _, topi = decoder_output.topk(1)\n",
    "            decoder_input = torch.LongTensor([[topi[i][0] for i in range(batch_size)]]).to(DEVICE)\n",
    "\n",
    "        # Calculate and accumulate loss\n",
    "        mask_loss, nTotal = maskNLLLoss(decoder_output, outputs[t], mask[t])\n",
    "        loss += mask_loss\n",
    "        print_losses.append(mask_loss.item() * nTotal)\n",
    "        n_totals += nTotal\n",
    "\n",
    "    # Perform backpropatation\n",
    "    loss.backward()\n",
    "\n",
    "    # HACK Gradient clipping: gradients are modified in place\n",
    "    _ = nn.utils.clip_grad_norm_(encoder.parameters(), clip)\n",
    "    _ = nn.utils.clip_grad_norm_(decoder.parameters(), clip)\n",
    "\n",
    "    # Adjust model weights\n",
    "    encoder_optimizer.step()\n",
    "    decoder_optimizer.step()\n",
    "\n",
    "    return sum(print_losses) / n_totals"
   ]
  },
  {
   "cell_type": "markdown",
   "id": "bda1262c",
   "metadata": {},
   "source": [
    "However, that is for a single data point only. We still need to define a function that will run our training procedure for batches of data."
   ]
  },
  {
   "cell_type": "code",
   "execution_count": 28,
   "id": "2031114e",
   "metadata": {},
   "outputs": [],
   "source": [
    "from tqdm import tqdm\n",
    "from pathlib import Path\n",
    "\n",
    "def train_epoch(\n",
    "    iterator,\n",
    "    encoder, decoder, encoder_optimizer, decoder_optimizer,\n",
    "    clip, teacher_forcing_ratio\n",
    "):\n",
    "    \"\"\"Training procedure for an epoch.\"\"\"\n",
    "    loss_sum, batches = 0, 0\n",
    "\n",
    "    # Training loop \n",
    "    for batch in tqdm(iterator, desc=\"\\tTraining\"):\n",
    "        # Extract fields from batch\n",
    "        inputs, lengths, outputs, mask, max_target_len = batch\n",
    "\n",
    "        # Run a training iteration with batch\n",
    "        loss = train_step(\n",
    "            inputs, lengths, outputs, mask, max_target_len,\n",
    "            encoder, decoder, encoder_optimizer, decoder_optimizer,\n",
    "            clip, teacher_forcing_ratio\n",
    "        )\n",
    "        loss_sum += loss\n",
    "        batches += 1\n",
    "    \n",
    "    return loss_sum / batches"
   ]
  },
  {
   "cell_type": "markdown",
   "id": "b8681828",
   "metadata": {},
   "source": [
    "Last but not least, we will need a function for the entire training proecss (all epochs). We will also be saving our model periodically on best training loss (so every epoch in practice) using PyTorch's `save()` method."
   ]
  },
  {
   "cell_type": "code",
   "execution_count": 29,
   "id": "ddfc19a2",
   "metadata": {},
   "outputs": [],
   "source": [
    "def train(iterator, epochs, encoder, decoder, encoder_optimizer, decoder_optimizer, clip, teacher_forcing_ratio, encoder_n_layers, decoder_n_layers, hidden_size, attn_model):\n",
    "    \"\"\"Training procedure for the entire model (multiple epochs).\"\"\"\n",
    "    encoder.train()\n",
    "    decoder.train()\n",
    "\n",
    "    best_loss = float('inf')\n",
    "\n",
    "    for epoch in range(epochs):\n",
    "        print(f'Epoch: {epoch+1:02}')\n",
    "\n",
    "        train_loss = train_epoch(iterator, encoder, decoder, encoder_optimizer, decoder_optimizer, clip, teacher_forcing_ratio)\n",
    "        print(f'\\tTrain Loss: {train_loss:.3f}')\n",
    "\n",
    "        if train_loss < best_loss:\n",
    "            best_loss = train_loss\n",
    "            torch.save({\n",
    "                \"encoder\": encoder.state_dict(),\n",
    "                \"decoder\": decoder.state_dict(),\n",
    "                \"embedding\": encoder.embedding.state_dict(),\n",
    "                \"loss\": train_loss,\n",
    "                \"vocabulary\": text_vocab,\n",
    "                \"encoder_n_layers\": encoder_n_layers,\n",
    "                \"decoder_n_layers\": decoder_n_layers,\n",
    "                \"hidden_size\": hidden_size,\n",
    "                \"attn_model\": attn_model,\n",
    "            }, f\"chatbot-{encoder_n_layers}-{decoder_n_layers}-{hidden_size}-{attn_model}.pt\")"
   ]
  },
  {
   "cell_type": "markdown",
   "id": "3ed356c1",
   "metadata": {},
   "source": [
    "Now we can finally train our model. Feel free to play with the hyperparameters for better performance."
   ]
  },
  {
   "cell_type": "code",
   "execution_count": 30,
   "id": "c97a1c85",
   "metadata": {},
   "outputs": [
    {
     "name": "stdout",
     "output_type": "stream",
     "text": [
      "Using GPU for training.\n",
      "Epoch: 01\n"
     ]
    },
    {
     "name": "stderr",
     "output_type": "stream",
     "text": [
      "\tTraining:   9%|██████▋                                                               | 82/865 [01:07<10:29,  1.24it/s]C:\\Users\\usind\\anaconda3\\envs\\nlp2022\\lib\\site-packages\\torch\\_jit_internal.py:1134: UserWarning: The inner type of a container is lost when calling torch.jit.isinstance in eager mode. For example, List[int] would become list and therefore falsely return True for List[float] or List[str].\n",
      "  warnings.warn(\"The inner type of a container is lost when \"\n",
      "\tTraining: 100%|█████████████████████████████████████████████████████████████████████| 865/865 [10:50<00:00,  1.33it/s]\n"
     ]
    },
    {
     "name": "stdout",
     "output_type": "stream",
     "text": [
      "\tTrain Loss: 4.072\n",
      "Epoch: 02\n"
     ]
    },
    {
     "name": "stderr",
     "output_type": "stream",
     "text": [
      "\tTraining: 100%|█████████████████████████████████████████████████████████████████████| 865/865 [10:43<00:00,  1.34it/s]\n"
     ]
    },
    {
     "name": "stdout",
     "output_type": "stream",
     "text": [
      "\tTrain Loss: 3.537\n",
      "Epoch: 03\n"
     ]
    },
    {
     "name": "stderr",
     "output_type": "stream",
     "text": [
      "\tTraining:   1%|▌                                                                      | 7/865 [00:05<11:58,  1.19it/s]\n"
     ]
    },
    {
     "ename": "KeyboardInterrupt",
     "evalue": "",
     "output_type": "error",
     "traceback": [
      "\u001b[1;31m---------------------------------------------------------------------------\u001b[0m",
      "\u001b[1;31mKeyboardInterrupt\u001b[0m                         Traceback (most recent call last)",
      "Cell \u001b[1;32mIn[30], line 43\u001b[0m\n\u001b[0;32m     41\u001b[0m \u001b[38;5;66;03m# Run training!\u001b[39;00m\n\u001b[0;32m     42\u001b[0m \u001b[38;5;28mprint\u001b[39m(\u001b[38;5;124mf\u001b[39m\u001b[38;5;124m\"\u001b[39m\u001b[38;5;124mUsing \u001b[39m\u001b[38;5;132;01m{\u001b[39;00m\u001b[38;5;124m'\u001b[39m\u001b[38;5;124mGPU\u001b[39m\u001b[38;5;124m'\u001b[39m\u001b[38;5;250m \u001b[39m\u001b[38;5;28;01mif\u001b[39;00m\u001b[38;5;250m \u001b[39m\u001b[38;5;28mstr\u001b[39m(DEVICE)\u001b[38;5;250m \u001b[39m\u001b[38;5;241m==\u001b[39m\u001b[38;5;250m \u001b[39m\u001b[38;5;124m'\u001b[39m\u001b[38;5;124mcuda\u001b[39m\u001b[38;5;124m'\u001b[39m\u001b[38;5;250m \u001b[39m\u001b[38;5;28;01melse\u001b[39;00m\u001b[38;5;250m \u001b[39m\u001b[38;5;124m'\u001b[39m\u001b[38;5;124mCPU\u001b[39m\u001b[38;5;124m'\u001b[39m\u001b[38;5;132;01m}\u001b[39;00m\u001b[38;5;124m for training.\u001b[39m\u001b[38;5;124m\"\u001b[39m)\n\u001b[1;32m---> 43\u001b[0m \u001b[43mtrain\u001b[49m\u001b[43m(\u001b[49m\n\u001b[0;32m     44\u001b[0m \u001b[43m    \u001b[49m\u001b[43mITERATOR\u001b[49m\u001b[43m,\u001b[49m\u001b[43m \u001b[49m\u001b[43mN_EPOCHS\u001b[49m\u001b[43m,\u001b[49m\n\u001b[0;32m     45\u001b[0m \u001b[43m    \u001b[49m\u001b[43mencoder\u001b[49m\u001b[43m,\u001b[49m\u001b[43m \u001b[49m\u001b[43mdecoder\u001b[49m\u001b[43m,\u001b[49m\u001b[43m \u001b[49m\u001b[43mencoder_optimizer\u001b[49m\u001b[43m,\u001b[49m\u001b[43m \u001b[49m\u001b[43mdecoder_optimizer\u001b[49m\u001b[43m,\u001b[49m\n\u001b[0;32m     46\u001b[0m \u001b[43m    \u001b[49m\u001b[43mCLIP\u001b[49m\u001b[43m,\u001b[49m\u001b[43m \u001b[49m\u001b[43mTEACHER_FORCING_RATIO\u001b[49m\u001b[43m,\u001b[49m\n\u001b[0;32m     47\u001b[0m \u001b[43m    \u001b[49m\u001b[43mENCODER_N_LAYERS\u001b[49m\u001b[43m,\u001b[49m\u001b[43m \u001b[49m\u001b[43mDECODER_N_LAYERS\u001b[49m\u001b[43m,\u001b[49m\u001b[43m \u001b[49m\u001b[43mHIDDEN_SIZE\u001b[49m\u001b[43m,\u001b[49m\u001b[43m \u001b[49m\u001b[43mATTENTION_MODEL\u001b[49m\n\u001b[0;32m     48\u001b[0m \u001b[43m)\u001b[49m\n",
      "Cell \u001b[1;32mIn[29], line 11\u001b[0m, in \u001b[0;36mtrain\u001b[1;34m(iterator, epochs, encoder, decoder, encoder_optimizer, decoder_optimizer, clip, teacher_forcing_ratio, encoder_n_layers, decoder_n_layers, hidden_size, attn_model)\u001b[0m\n\u001b[0;32m      8\u001b[0m \u001b[38;5;28;01mfor\u001b[39;00m epoch \u001b[38;5;129;01min\u001b[39;00m \u001b[38;5;28mrange\u001b[39m(epochs):\n\u001b[0;32m      9\u001b[0m     \u001b[38;5;28mprint\u001b[39m(\u001b[38;5;124mf\u001b[39m\u001b[38;5;124m'\u001b[39m\u001b[38;5;124mEpoch: \u001b[39m\u001b[38;5;132;01m{\u001b[39;00mepoch\u001b[38;5;241m+\u001b[39m\u001b[38;5;241m1\u001b[39m\u001b[38;5;132;01m:\u001b[39;00m\u001b[38;5;124m02\u001b[39m\u001b[38;5;132;01m}\u001b[39;00m\u001b[38;5;124m'\u001b[39m)\n\u001b[1;32m---> 11\u001b[0m     train_loss \u001b[38;5;241m=\u001b[39m \u001b[43mtrain_epoch\u001b[49m\u001b[43m(\u001b[49m\u001b[43miterator\u001b[49m\u001b[43m,\u001b[49m\u001b[43m \u001b[49m\u001b[43mencoder\u001b[49m\u001b[43m,\u001b[49m\u001b[43m \u001b[49m\u001b[43mdecoder\u001b[49m\u001b[43m,\u001b[49m\u001b[43m \u001b[49m\u001b[43mencoder_optimizer\u001b[49m\u001b[43m,\u001b[49m\u001b[43m \u001b[49m\u001b[43mdecoder_optimizer\u001b[49m\u001b[43m,\u001b[49m\u001b[43m \u001b[49m\u001b[43mclip\u001b[49m\u001b[43m,\u001b[49m\u001b[43m \u001b[49m\u001b[43mteacher_forcing_ratio\u001b[49m\u001b[43m)\u001b[49m\n\u001b[0;32m     12\u001b[0m     \u001b[38;5;28mprint\u001b[39m(\u001b[38;5;124mf\u001b[39m\u001b[38;5;124m'\u001b[39m\u001b[38;5;130;01m\\t\u001b[39;00m\u001b[38;5;124mTrain Loss: \u001b[39m\u001b[38;5;132;01m{\u001b[39;00mtrain_loss\u001b[38;5;132;01m:\u001b[39;00m\u001b[38;5;124m.3f\u001b[39m\u001b[38;5;132;01m}\u001b[39;00m\u001b[38;5;124m'\u001b[39m)\n\u001b[0;32m     14\u001b[0m     \u001b[38;5;28;01mif\u001b[39;00m train_loss \u001b[38;5;241m<\u001b[39m best_loss:\n",
      "Cell \u001b[1;32mIn[28], line 13\u001b[0m, in \u001b[0;36mtrain_epoch\u001b[1;34m(iterator, encoder, decoder, encoder_optimizer, decoder_optimizer, clip, teacher_forcing_ratio)\u001b[0m\n\u001b[0;32m     10\u001b[0m loss_sum, batches \u001b[38;5;241m=\u001b[39m \u001b[38;5;241m0\u001b[39m, \u001b[38;5;241m0\u001b[39m\n\u001b[0;32m     12\u001b[0m \u001b[38;5;66;03m# Training loop \u001b[39;00m\n\u001b[1;32m---> 13\u001b[0m \u001b[38;5;28;01mfor\u001b[39;00m batch \u001b[38;5;129;01min\u001b[39;00m tqdm(iterator, desc\u001b[38;5;241m=\u001b[39m\u001b[38;5;124m\"\u001b[39m\u001b[38;5;130;01m\\t\u001b[39;00m\u001b[38;5;124mTraining\u001b[39m\u001b[38;5;124m\"\u001b[39m):\n\u001b[0;32m     14\u001b[0m     \u001b[38;5;66;03m# Extract fields from batch\u001b[39;00m\n\u001b[0;32m     15\u001b[0m     inputs, lengths, outputs, mask, max_target_len \u001b[38;5;241m=\u001b[39m batch\n\u001b[0;32m     17\u001b[0m     \u001b[38;5;66;03m# Run a training iteration with batch\u001b[39;00m\n",
      "File \u001b[1;32m~\\anaconda3\\envs\\nlp2022\\lib\\site-packages\\tqdm\\std.py:1178\u001b[0m, in \u001b[0;36mtqdm.__iter__\u001b[1;34m(self)\u001b[0m\n\u001b[0;32m   1175\u001b[0m time \u001b[38;5;241m=\u001b[39m \u001b[38;5;28mself\u001b[39m\u001b[38;5;241m.\u001b[39m_time\n\u001b[0;32m   1177\u001b[0m \u001b[38;5;28;01mtry\u001b[39;00m:\n\u001b[1;32m-> 1178\u001b[0m     \u001b[38;5;28;01mfor\u001b[39;00m obj \u001b[38;5;129;01min\u001b[39;00m iterable:\n\u001b[0;32m   1179\u001b[0m         \u001b[38;5;28;01myield\u001b[39;00m obj\n\u001b[0;32m   1180\u001b[0m         \u001b[38;5;66;03m# Update and possibly print the progressbar.\u001b[39;00m\n\u001b[0;32m   1181\u001b[0m         \u001b[38;5;66;03m# Note: does not call self.update(1) for speed optimisation.\u001b[39;00m\n",
      "File \u001b[1;32m~\\anaconda3\\envs\\nlp2022\\lib\\site-packages\\torch\\utils\\data\\dataloader.py:530\u001b[0m, in \u001b[0;36m_BaseDataLoaderIter.__next__\u001b[1;34m(self)\u001b[0m\n\u001b[0;32m    528\u001b[0m \u001b[38;5;28;01mif\u001b[39;00m \u001b[38;5;28mself\u001b[39m\u001b[38;5;241m.\u001b[39m_sampler_iter \u001b[38;5;129;01mis\u001b[39;00m \u001b[38;5;28;01mNone\u001b[39;00m:\n\u001b[0;32m    529\u001b[0m     \u001b[38;5;28mself\u001b[39m\u001b[38;5;241m.\u001b[39m_reset()\n\u001b[1;32m--> 530\u001b[0m data \u001b[38;5;241m=\u001b[39m \u001b[38;5;28;43mself\u001b[39;49m\u001b[38;5;241;43m.\u001b[39;49m\u001b[43m_next_data\u001b[49m\u001b[43m(\u001b[49m\u001b[43m)\u001b[49m\n\u001b[0;32m    531\u001b[0m \u001b[38;5;28mself\u001b[39m\u001b[38;5;241m.\u001b[39m_num_yielded \u001b[38;5;241m+\u001b[39m\u001b[38;5;241m=\u001b[39m \u001b[38;5;241m1\u001b[39m\n\u001b[0;32m    532\u001b[0m \u001b[38;5;28;01mif\u001b[39;00m \u001b[38;5;28mself\u001b[39m\u001b[38;5;241m.\u001b[39m_dataset_kind \u001b[38;5;241m==\u001b[39m _DatasetKind\u001b[38;5;241m.\u001b[39mIterable \u001b[38;5;129;01mand\u001b[39;00m \\\n\u001b[0;32m    533\u001b[0m         \u001b[38;5;28mself\u001b[39m\u001b[38;5;241m.\u001b[39m_IterableDataset_len_called \u001b[38;5;129;01mis\u001b[39;00m \u001b[38;5;129;01mnot\u001b[39;00m \u001b[38;5;28;01mNone\u001b[39;00m \u001b[38;5;129;01mand\u001b[39;00m \\\n\u001b[0;32m    534\u001b[0m         \u001b[38;5;28mself\u001b[39m\u001b[38;5;241m.\u001b[39m_num_yielded \u001b[38;5;241m>\u001b[39m \u001b[38;5;28mself\u001b[39m\u001b[38;5;241m.\u001b[39m_IterableDataset_len_called:\n",
      "File \u001b[1;32m~\\anaconda3\\envs\\nlp2022\\lib\\site-packages\\torch\\utils\\data\\dataloader.py:570\u001b[0m, in \u001b[0;36m_SingleProcessDataLoaderIter._next_data\u001b[1;34m(self)\u001b[0m\n\u001b[0;32m    568\u001b[0m \u001b[38;5;28;01mdef\u001b[39;00m \u001b[38;5;21m_next_data\u001b[39m(\u001b[38;5;28mself\u001b[39m):\n\u001b[0;32m    569\u001b[0m     index \u001b[38;5;241m=\u001b[39m \u001b[38;5;28mself\u001b[39m\u001b[38;5;241m.\u001b[39m_next_index()  \u001b[38;5;66;03m# may raise StopIteration\u001b[39;00m\n\u001b[1;32m--> 570\u001b[0m     data \u001b[38;5;241m=\u001b[39m \u001b[38;5;28;43mself\u001b[39;49m\u001b[38;5;241;43m.\u001b[39;49m\u001b[43m_dataset_fetcher\u001b[49m\u001b[38;5;241;43m.\u001b[39;49m\u001b[43mfetch\u001b[49m\u001b[43m(\u001b[49m\u001b[43mindex\u001b[49m\u001b[43m)\u001b[49m  \u001b[38;5;66;03m# may raise StopIteration\u001b[39;00m\n\u001b[0;32m    571\u001b[0m     \u001b[38;5;28;01mif\u001b[39;00m \u001b[38;5;28mself\u001b[39m\u001b[38;5;241m.\u001b[39m_pin_memory:\n\u001b[0;32m    572\u001b[0m         data \u001b[38;5;241m=\u001b[39m _utils\u001b[38;5;241m.\u001b[39mpin_memory\u001b[38;5;241m.\u001b[39mpin_memory(data)\n",
      "File \u001b[1;32m~\\anaconda3\\envs\\nlp2022\\lib\\site-packages\\torch\\utils\\data\\_utils\\fetch.py:52\u001b[0m, in \u001b[0;36m_MapDatasetFetcher.fetch\u001b[1;34m(self, possibly_batched_index)\u001b[0m\n\u001b[0;32m     50\u001b[0m \u001b[38;5;28;01melse\u001b[39;00m:\n\u001b[0;32m     51\u001b[0m     data \u001b[38;5;241m=\u001b[39m \u001b[38;5;28mself\u001b[39m\u001b[38;5;241m.\u001b[39mdataset[possibly_batched_index]\n\u001b[1;32m---> 52\u001b[0m \u001b[38;5;28;01mreturn\u001b[39;00m \u001b[38;5;28;43mself\u001b[39;49m\u001b[38;5;241;43m.\u001b[39;49m\u001b[43mcollate_fn\u001b[49m\u001b[43m(\u001b[49m\u001b[43mdata\u001b[49m\u001b[43m)\u001b[49m\n",
      "Cell \u001b[1;32mIn[22], line 7\u001b[0m, in \u001b[0;36mcollate_batch\u001b[1;34m(batch)\u001b[0m\n\u001b[0;32m      5\u001b[0m \u001b[38;5;28;01mdef\u001b[39;00m \u001b[38;5;21mcollate_batch\u001b[39m(batch):\n\u001b[0;32m      6\u001b[0m     \u001b[38;5;66;03m# Sort in the batch using reverse order of input length\u001b[39;00m\n\u001b[1;32m----> 7\u001b[0m     sort_tokenizer \u001b[38;5;241m=\u001b[39m \u001b[43mSpacyTokenizer\u001b[49m\u001b[43m(\u001b[49m\u001b[43m)\u001b[49m\n\u001b[0;32m      8\u001b[0m     batch\u001b[38;5;241m.\u001b[39msort(key\u001b[38;5;241m=\u001b[39m\u001b[38;5;28;01mlambda\u001b[39;00m x: \u001b[38;5;28mlen\u001b[39m(sort_tokenizer(x[\u001b[38;5;241m0\u001b[39m])), reverse\u001b[38;5;241m=\u001b[39m\u001b[38;5;28;01mTrue\u001b[39;00m)\n\u001b[0;32m     10\u001b[0m     inputs, outputs \u001b[38;5;241m=\u001b[39m \u001b[38;5;28mzip\u001b[39m(\u001b[38;5;241m*\u001b[39mbatch)\n",
      "Cell \u001b[1;32mIn[14], line 9\u001b[0m, in \u001b[0;36mSpacyTokenizer.__init__\u001b[1;34m(self)\u001b[0m\n\u001b[0;32m      7\u001b[0m \u001b[38;5;28;01mdef\u001b[39;00m \u001b[38;5;21m__init__\u001b[39m(\u001b[38;5;28mself\u001b[39m):\n\u001b[0;32m      8\u001b[0m     \u001b[38;5;28msuper\u001b[39m()\u001b[38;5;241m.\u001b[39m\u001b[38;5;21m__init__\u001b[39m()\n\u001b[1;32m----> 9\u001b[0m     \u001b[38;5;28mself\u001b[39m\u001b[38;5;241m.\u001b[39mtokenizer \u001b[38;5;241m=\u001b[39m \u001b[43mget_tokenizer\u001b[49m\u001b[43m(\u001b[49m\u001b[38;5;124;43m\"\u001b[39;49m\u001b[38;5;124;43mspacy\u001b[39;49m\u001b[38;5;124;43m\"\u001b[39;49m\u001b[43m,\u001b[49m\u001b[43m \u001b[49m\u001b[43mlanguage\u001b[49m\u001b[38;5;241;43m=\u001b[39;49m\u001b[38;5;124;43m\"\u001b[39;49m\u001b[38;5;124;43men_core_web_sm\u001b[39;49m\u001b[38;5;124;43m\"\u001b[39;49m\u001b[43m)\u001b[49m\n",
      "File \u001b[1;32m~\\anaconda3\\envs\\nlp2022\\lib\\site-packages\\torchtext\\data\\utils.py:115\u001b[0m, in \u001b[0;36mget_tokenizer\u001b[1;34m(tokenizer, language)\u001b[0m\n\u001b[0;32m    113\u001b[0m \u001b[38;5;28;01mimport\u001b[39;00m \u001b[38;5;21;01mspacy\u001b[39;00m\n\u001b[0;32m    114\u001b[0m \u001b[38;5;28;01mtry\u001b[39;00m:\n\u001b[1;32m--> 115\u001b[0m     spacy \u001b[38;5;241m=\u001b[39m \u001b[43mspacy\u001b[49m\u001b[38;5;241;43m.\u001b[39;49m\u001b[43mload\u001b[49m\u001b[43m(\u001b[49m\u001b[43mlanguage\u001b[49m\u001b[43m)\u001b[49m\n\u001b[0;32m    116\u001b[0m \u001b[38;5;28;01mexcept\u001b[39;00m \u001b[38;5;167;01mIOError\u001b[39;00m:\n\u001b[0;32m    117\u001b[0m     \u001b[38;5;66;03m# Model shortcuts no longer work in spaCy 3.0+, try using fullnames\u001b[39;00m\n\u001b[0;32m    118\u001b[0m     \u001b[38;5;66;03m# List is from https://github.com/explosion/spaCy/blob/b903de3fcb56df2f7247e5b6cfa6b66f4ff02b62/spacy/errors.py#L789\u001b[39;00m\n\u001b[0;32m    119\u001b[0m     OLD_MODEL_SHORTCUTS \u001b[38;5;241m=\u001b[39m spacy\u001b[38;5;241m.\u001b[39merrors\u001b[38;5;241m.\u001b[39mOLD_MODEL_SHORTCUTS \u001b[38;5;28;01mif\u001b[39;00m \u001b[38;5;28mhasattr\u001b[39m(spacy\u001b[38;5;241m.\u001b[39merrors, \u001b[38;5;124m'\u001b[39m\u001b[38;5;124mOLD_MODEL_SHORTCUTS\u001b[39m\u001b[38;5;124m'\u001b[39m) \u001b[38;5;28;01melse\u001b[39;00m {}\n",
      "File \u001b[1;32m~\\anaconda3\\envs\\nlp2022\\lib\\site-packages\\spacy\\__init__.py:54\u001b[0m, in \u001b[0;36mload\u001b[1;34m(name, vocab, disable, enable, exclude, config)\u001b[0m\n\u001b[0;32m     30\u001b[0m \u001b[38;5;28;01mdef\u001b[39;00m \u001b[38;5;21mload\u001b[39m(\n\u001b[0;32m     31\u001b[0m     name: Union[\u001b[38;5;28mstr\u001b[39m, Path],\n\u001b[0;32m     32\u001b[0m     \u001b[38;5;241m*\u001b[39m,\n\u001b[1;32m   (...)\u001b[0m\n\u001b[0;32m     37\u001b[0m     config: Union[Dict[\u001b[38;5;28mstr\u001b[39m, Any], Config] \u001b[38;5;241m=\u001b[39m util\u001b[38;5;241m.\u001b[39mSimpleFrozenDict(),\n\u001b[0;32m     38\u001b[0m ) \u001b[38;5;241m-\u001b[39m\u001b[38;5;241m>\u001b[39m Language:\n\u001b[0;32m     39\u001b[0m \u001b[38;5;250m    \u001b[39m\u001b[38;5;124;03m\"\"\"Load a spaCy model from an installed package or a local path.\u001b[39;00m\n\u001b[0;32m     40\u001b[0m \n\u001b[0;32m     41\u001b[0m \u001b[38;5;124;03m    name (str): Package name or model path.\u001b[39;00m\n\u001b[1;32m   (...)\u001b[0m\n\u001b[0;32m     52\u001b[0m \u001b[38;5;124;03m    RETURNS (Language): The loaded nlp object.\u001b[39;00m\n\u001b[0;32m     53\u001b[0m \u001b[38;5;124;03m    \"\"\"\u001b[39;00m\n\u001b[1;32m---> 54\u001b[0m     \u001b[38;5;28;01mreturn\u001b[39;00m \u001b[43mutil\u001b[49m\u001b[38;5;241;43m.\u001b[39;49m\u001b[43mload_model\u001b[49m\u001b[43m(\u001b[49m\n\u001b[0;32m     55\u001b[0m \u001b[43m        \u001b[49m\u001b[43mname\u001b[49m\u001b[43m,\u001b[49m\n\u001b[0;32m     56\u001b[0m \u001b[43m        \u001b[49m\u001b[43mvocab\u001b[49m\u001b[38;5;241;43m=\u001b[39;49m\u001b[43mvocab\u001b[49m\u001b[43m,\u001b[49m\n\u001b[0;32m     57\u001b[0m \u001b[43m        \u001b[49m\u001b[43mdisable\u001b[49m\u001b[38;5;241;43m=\u001b[39;49m\u001b[43mdisable\u001b[49m\u001b[43m,\u001b[49m\n\u001b[0;32m     58\u001b[0m \u001b[43m        \u001b[49m\u001b[43menable\u001b[49m\u001b[38;5;241;43m=\u001b[39;49m\u001b[43menable\u001b[49m\u001b[43m,\u001b[49m\n\u001b[0;32m     59\u001b[0m \u001b[43m        \u001b[49m\u001b[43mexclude\u001b[49m\u001b[38;5;241;43m=\u001b[39;49m\u001b[43mexclude\u001b[49m\u001b[43m,\u001b[49m\n\u001b[0;32m     60\u001b[0m \u001b[43m        \u001b[49m\u001b[43mconfig\u001b[49m\u001b[38;5;241;43m=\u001b[39;49m\u001b[43mconfig\u001b[49m\u001b[43m,\u001b[49m\n\u001b[0;32m     61\u001b[0m \u001b[43m    \u001b[49m\u001b[43m)\u001b[49m\n",
      "File \u001b[1;32m~\\anaconda3\\envs\\nlp2022\\lib\\site-packages\\spacy\\util.py:432\u001b[0m, in \u001b[0;36mload_model\u001b[1;34m(name, vocab, disable, enable, exclude, config)\u001b[0m\n\u001b[0;32m    430\u001b[0m     \u001b[38;5;28;01mreturn\u001b[39;00m get_lang_class(name\u001b[38;5;241m.\u001b[39mreplace(\u001b[38;5;124m\"\u001b[39m\u001b[38;5;124mblank:\u001b[39m\u001b[38;5;124m\"\u001b[39m, \u001b[38;5;124m\"\u001b[39m\u001b[38;5;124m\"\u001b[39m))()\n\u001b[0;32m    431\u001b[0m \u001b[38;5;28;01mif\u001b[39;00m is_package(name):  \u001b[38;5;66;03m# installed as package\u001b[39;00m\n\u001b[1;32m--> 432\u001b[0m     \u001b[38;5;28;01mreturn\u001b[39;00m load_model_from_package(name, \u001b[38;5;241m*\u001b[39m\u001b[38;5;241m*\u001b[39mkwargs)  \u001b[38;5;66;03m# type: ignore[arg-type]\u001b[39;00m\n\u001b[0;32m    433\u001b[0m \u001b[38;5;28;01mif\u001b[39;00m Path(name)\u001b[38;5;241m.\u001b[39mexists():  \u001b[38;5;66;03m# path to model data directory\u001b[39;00m\n\u001b[0;32m    434\u001b[0m     \u001b[38;5;28;01mreturn\u001b[39;00m load_model_from_path(Path(name), \u001b[38;5;241m*\u001b[39m\u001b[38;5;241m*\u001b[39mkwargs)  \u001b[38;5;66;03m# type: ignore[arg-type]\u001b[39;00m\n",
      "File \u001b[1;32m~\\anaconda3\\envs\\nlp2022\\lib\\site-packages\\spacy\\util.py:468\u001b[0m, in \u001b[0;36mload_model_from_package\u001b[1;34m(name, vocab, disable, enable, exclude, config)\u001b[0m\n\u001b[0;32m    451\u001b[0m \u001b[38;5;250m\u001b[39m\u001b[38;5;124;03m\"\"\"Load a model from an installed package.\u001b[39;00m\n\u001b[0;32m    452\u001b[0m \n\u001b[0;32m    453\u001b[0m \u001b[38;5;124;03mname (str): The package name.\u001b[39;00m\n\u001b[1;32m   (...)\u001b[0m\n\u001b[0;32m    465\u001b[0m \u001b[38;5;124;03mRETURNS (Language): The loaded nlp object.\u001b[39;00m\n\u001b[0;32m    466\u001b[0m \u001b[38;5;124;03m\"\"\"\u001b[39;00m\n\u001b[0;32m    467\u001b[0m \u001b[38;5;28mcls\u001b[39m \u001b[38;5;241m=\u001b[39m importlib\u001b[38;5;241m.\u001b[39mimport_module(name)\n\u001b[1;32m--> 468\u001b[0m \u001b[38;5;28;01mreturn\u001b[39;00m \u001b[38;5;28;43mcls\u001b[39;49m\u001b[38;5;241;43m.\u001b[39;49m\u001b[43mload\u001b[49m\u001b[43m(\u001b[49m\u001b[43mvocab\u001b[49m\u001b[38;5;241;43m=\u001b[39;49m\u001b[43mvocab\u001b[49m\u001b[43m,\u001b[49m\u001b[43m \u001b[49m\u001b[43mdisable\u001b[49m\u001b[38;5;241;43m=\u001b[39;49m\u001b[43mdisable\u001b[49m\u001b[43m,\u001b[49m\u001b[43m \u001b[49m\u001b[43menable\u001b[49m\u001b[38;5;241;43m=\u001b[39;49m\u001b[43menable\u001b[49m\u001b[43m,\u001b[49m\u001b[43m \u001b[49m\u001b[43mexclude\u001b[49m\u001b[38;5;241;43m=\u001b[39;49m\u001b[43mexclude\u001b[49m\u001b[43m,\u001b[49m\u001b[43m \u001b[49m\u001b[43mconfig\u001b[49m\u001b[38;5;241;43m=\u001b[39;49m\u001b[43mconfig\u001b[49m\u001b[43m)\u001b[49m\n",
      "File \u001b[1;32m~\\anaconda3\\envs\\nlp2022\\lib\\site-packages\\en_core_web_sm\\__init__.py:10\u001b[0m, in \u001b[0;36mload\u001b[1;34m(**overrides)\u001b[0m\n\u001b[0;32m      9\u001b[0m \u001b[38;5;28;01mdef\u001b[39;00m \u001b[38;5;21mload\u001b[39m(\u001b[38;5;241m*\u001b[39m\u001b[38;5;241m*\u001b[39moverrides):\n\u001b[1;32m---> 10\u001b[0m     \u001b[38;5;28;01mreturn\u001b[39;00m load_model_from_init_py(\u001b[38;5;18m__file__\u001b[39m, \u001b[38;5;241m*\u001b[39m\u001b[38;5;241m*\u001b[39moverrides)\n",
      "File \u001b[1;32m~\\anaconda3\\envs\\nlp2022\\lib\\site-packages\\spacy\\util.py:649\u001b[0m, in \u001b[0;36mload_model_from_init_py\u001b[1;34m(init_file, vocab, disable, enable, exclude, config)\u001b[0m\n\u001b[0;32m    647\u001b[0m \u001b[38;5;28;01mif\u001b[39;00m \u001b[38;5;129;01mnot\u001b[39;00m model_path\u001b[38;5;241m.\u001b[39mexists():\n\u001b[0;32m    648\u001b[0m     \u001b[38;5;28;01mraise\u001b[39;00m \u001b[38;5;167;01mIOError\u001b[39;00m(Errors\u001b[38;5;241m.\u001b[39mE052\u001b[38;5;241m.\u001b[39mformat(path\u001b[38;5;241m=\u001b[39mdata_path))\n\u001b[1;32m--> 649\u001b[0m \u001b[38;5;28;01mreturn\u001b[39;00m \u001b[43mload_model_from_path\u001b[49m\u001b[43m(\u001b[49m\n\u001b[0;32m    650\u001b[0m \u001b[43m    \u001b[49m\u001b[43mdata_path\u001b[49m\u001b[43m,\u001b[49m\n\u001b[0;32m    651\u001b[0m \u001b[43m    \u001b[49m\u001b[43mvocab\u001b[49m\u001b[38;5;241;43m=\u001b[39;49m\u001b[43mvocab\u001b[49m\u001b[43m,\u001b[49m\n\u001b[0;32m    652\u001b[0m \u001b[43m    \u001b[49m\u001b[43mmeta\u001b[49m\u001b[38;5;241;43m=\u001b[39;49m\u001b[43mmeta\u001b[49m\u001b[43m,\u001b[49m\n\u001b[0;32m    653\u001b[0m \u001b[43m    \u001b[49m\u001b[43mdisable\u001b[49m\u001b[38;5;241;43m=\u001b[39;49m\u001b[43mdisable\u001b[49m\u001b[43m,\u001b[49m\n\u001b[0;32m    654\u001b[0m \u001b[43m    \u001b[49m\u001b[43menable\u001b[49m\u001b[38;5;241;43m=\u001b[39;49m\u001b[43menable\u001b[49m\u001b[43m,\u001b[49m\n\u001b[0;32m    655\u001b[0m \u001b[43m    \u001b[49m\u001b[43mexclude\u001b[49m\u001b[38;5;241;43m=\u001b[39;49m\u001b[43mexclude\u001b[49m\u001b[43m,\u001b[49m\n\u001b[0;32m    656\u001b[0m \u001b[43m    \u001b[49m\u001b[43mconfig\u001b[49m\u001b[38;5;241;43m=\u001b[39;49m\u001b[43mconfig\u001b[49m\u001b[43m,\u001b[49m\n\u001b[0;32m    657\u001b[0m \u001b[43m\u001b[49m\u001b[43m)\u001b[49m\n",
      "File \u001b[1;32m~\\anaconda3\\envs\\nlp2022\\lib\\site-packages\\spacy\\util.py:514\u001b[0m, in \u001b[0;36mload_model_from_path\u001b[1;34m(model_path, meta, vocab, disable, enable, exclude, config)\u001b[0m\n\u001b[0;32m    505\u001b[0m config \u001b[38;5;241m=\u001b[39m load_config(config_path, overrides\u001b[38;5;241m=\u001b[39moverrides)\n\u001b[0;32m    506\u001b[0m nlp \u001b[38;5;241m=\u001b[39m load_model_from_config(\n\u001b[0;32m    507\u001b[0m     config,\n\u001b[0;32m    508\u001b[0m     vocab\u001b[38;5;241m=\u001b[39mvocab,\n\u001b[1;32m   (...)\u001b[0m\n\u001b[0;32m    512\u001b[0m     meta\u001b[38;5;241m=\u001b[39mmeta,\n\u001b[0;32m    513\u001b[0m )\n\u001b[1;32m--> 514\u001b[0m \u001b[38;5;28;01mreturn\u001b[39;00m \u001b[43mnlp\u001b[49m\u001b[38;5;241;43m.\u001b[39;49m\u001b[43mfrom_disk\u001b[49m\u001b[43m(\u001b[49m\u001b[43mmodel_path\u001b[49m\u001b[43m,\u001b[49m\u001b[43m \u001b[49m\u001b[43mexclude\u001b[49m\u001b[38;5;241;43m=\u001b[39;49m\u001b[43mexclude\u001b[49m\u001b[43m,\u001b[49m\u001b[43m \u001b[49m\u001b[43moverrides\u001b[49m\u001b[38;5;241;43m=\u001b[39;49m\u001b[43moverrides\u001b[49m\u001b[43m)\u001b[49m\n",
      "File \u001b[1;32m~\\anaconda3\\envs\\nlp2022\\lib\\site-packages\\spacy\\language.py:2125\u001b[0m, in \u001b[0;36mLanguage.from_disk\u001b[1;34m(self, path, exclude, overrides)\u001b[0m\n\u001b[0;32m   2122\u001b[0m \u001b[38;5;28;01mif\u001b[39;00m \u001b[38;5;129;01mnot\u001b[39;00m (path \u001b[38;5;241m/\u001b[39m \u001b[38;5;124m\"\u001b[39m\u001b[38;5;124mvocab\u001b[39m\u001b[38;5;124m\"\u001b[39m)\u001b[38;5;241m.\u001b[39mexists() \u001b[38;5;129;01mand\u001b[39;00m \u001b[38;5;124m\"\u001b[39m\u001b[38;5;124mvocab\u001b[39m\u001b[38;5;124m\"\u001b[39m \u001b[38;5;129;01mnot\u001b[39;00m \u001b[38;5;129;01min\u001b[39;00m exclude:  \u001b[38;5;66;03m# type: ignore[operator]\u001b[39;00m\n\u001b[0;32m   2123\u001b[0m     \u001b[38;5;66;03m# Convert to list here in case exclude is (default) tuple\u001b[39;00m\n\u001b[0;32m   2124\u001b[0m     exclude \u001b[38;5;241m=\u001b[39m \u001b[38;5;28mlist\u001b[39m(exclude) \u001b[38;5;241m+\u001b[39m [\u001b[38;5;124m\"\u001b[39m\u001b[38;5;124mvocab\u001b[39m\u001b[38;5;124m\"\u001b[39m]\n\u001b[1;32m-> 2125\u001b[0m \u001b[43mutil\u001b[49m\u001b[38;5;241;43m.\u001b[39;49m\u001b[43mfrom_disk\u001b[49m\u001b[43m(\u001b[49m\u001b[43mpath\u001b[49m\u001b[43m,\u001b[49m\u001b[43m \u001b[49m\u001b[43mdeserializers\u001b[49m\u001b[43m,\u001b[49m\u001b[43m \u001b[49m\u001b[43mexclude\u001b[49m\u001b[43m)\u001b[49m  \u001b[38;5;66;03m# type: ignore[arg-type]\u001b[39;00m\n\u001b[0;32m   2126\u001b[0m \u001b[38;5;28mself\u001b[39m\u001b[38;5;241m.\u001b[39m_path \u001b[38;5;241m=\u001b[39m path  \u001b[38;5;66;03m# type: ignore[assignment]\u001b[39;00m\n\u001b[0;32m   2127\u001b[0m \u001b[38;5;28mself\u001b[39m\u001b[38;5;241m.\u001b[39m_link_components()\n",
      "File \u001b[1;32m~\\anaconda3\\envs\\nlp2022\\lib\\site-packages\\spacy\\util.py:1352\u001b[0m, in \u001b[0;36mfrom_disk\u001b[1;34m(path, readers, exclude)\u001b[0m\n\u001b[0;32m   1349\u001b[0m \u001b[38;5;28;01mfor\u001b[39;00m key, reader \u001b[38;5;129;01min\u001b[39;00m readers\u001b[38;5;241m.\u001b[39mitems():\n\u001b[0;32m   1350\u001b[0m     \u001b[38;5;66;03m# Split to support file names like meta.json\u001b[39;00m\n\u001b[0;32m   1351\u001b[0m     \u001b[38;5;28;01mif\u001b[39;00m key\u001b[38;5;241m.\u001b[39msplit(\u001b[38;5;124m\"\u001b[39m\u001b[38;5;124m.\u001b[39m\u001b[38;5;124m\"\u001b[39m)[\u001b[38;5;241m0\u001b[39m] \u001b[38;5;129;01mnot\u001b[39;00m \u001b[38;5;129;01min\u001b[39;00m exclude:\n\u001b[1;32m-> 1352\u001b[0m         \u001b[43mreader\u001b[49m\u001b[43m(\u001b[49m\u001b[43mpath\u001b[49m\u001b[43m \u001b[49m\u001b[38;5;241;43m/\u001b[39;49m\u001b[43m \u001b[49m\u001b[43mkey\u001b[49m\u001b[43m)\u001b[49m\n\u001b[0;32m   1353\u001b[0m \u001b[38;5;28;01mreturn\u001b[39;00m path\n",
      "File \u001b[1;32m~\\anaconda3\\envs\\nlp2022\\lib\\site-packages\\spacy\\language.py:2111\u001b[0m, in \u001b[0;36mLanguage.from_disk.<locals>.<lambda>\u001b[1;34m(p)\u001b[0m\n\u001b[0;32m   2109\u001b[0m deserializers[\u001b[38;5;124m\"\u001b[39m\u001b[38;5;124mmeta.json\u001b[39m\u001b[38;5;124m\"\u001b[39m] \u001b[38;5;241m=\u001b[39m deserialize_meta  \u001b[38;5;66;03m# type: ignore[assignment]\u001b[39;00m\n\u001b[0;32m   2110\u001b[0m deserializers[\u001b[38;5;124m\"\u001b[39m\u001b[38;5;124mvocab\u001b[39m\u001b[38;5;124m\"\u001b[39m] \u001b[38;5;241m=\u001b[39m deserialize_vocab  \u001b[38;5;66;03m# type: ignore[assignment]\u001b[39;00m\n\u001b[1;32m-> 2111\u001b[0m deserializers[\u001b[38;5;124m\"\u001b[39m\u001b[38;5;124mtokenizer\u001b[39m\u001b[38;5;124m\"\u001b[39m] \u001b[38;5;241m=\u001b[39m \u001b[38;5;28;01mlambda\u001b[39;00m p: \u001b[38;5;28;43mself\u001b[39;49m\u001b[38;5;241;43m.\u001b[39;49m\u001b[43mtokenizer\u001b[49m\u001b[38;5;241;43m.\u001b[39;49m\u001b[43mfrom_disk\u001b[49m\u001b[43m(\u001b[49m\u001b[43m  \u001b[49m\u001b[38;5;66;43;03m# type: ignore[union-attr]\u001b[39;49;00m\n\u001b[0;32m   2112\u001b[0m \u001b[43m    \u001b[49m\u001b[43mp\u001b[49m\u001b[43m,\u001b[49m\u001b[43m \u001b[49m\u001b[43mexclude\u001b[49m\u001b[38;5;241;43m=\u001b[39;49m\u001b[43m[\u001b[49m\u001b[38;5;124;43m\"\u001b[39;49m\u001b[38;5;124;43mvocab\u001b[39;49m\u001b[38;5;124;43m\"\u001b[39;49m\u001b[43m]\u001b[49m\n\u001b[0;32m   2113\u001b[0m \u001b[43m\u001b[49m\u001b[43m)\u001b[49m\n\u001b[0;32m   2114\u001b[0m \u001b[38;5;28;01mfor\u001b[39;00m name, proc \u001b[38;5;129;01min\u001b[39;00m \u001b[38;5;28mself\u001b[39m\u001b[38;5;241m.\u001b[39m_components:\n\u001b[0;32m   2115\u001b[0m     \u001b[38;5;28;01mif\u001b[39;00m name \u001b[38;5;129;01min\u001b[39;00m exclude:\n",
      "File \u001b[1;32m~\\anaconda3\\envs\\nlp2022\\lib\\site-packages\\spacy\\tokenizer.pyx:774\u001b[0m, in \u001b[0;36mspacy.tokenizer.Tokenizer.from_disk\u001b[1;34m()\u001b[0m\n",
      "File \u001b[1;32m~\\anaconda3\\envs\\nlp2022\\lib\\site-packages\\spacy\\tokenizer.pyx:840\u001b[0m, in \u001b[0;36mspacy.tokenizer.Tokenizer.from_bytes\u001b[1;34m()\u001b[0m\n",
      "File \u001b[1;32m~\\anaconda3\\envs\\nlp2022\\lib\\site-packages\\spacy\\tokenizer.pyx:135\u001b[0m, in \u001b[0;36mspacy.tokenizer.Tokenizer.faster_heuristics.__set__\u001b[1;34m()\u001b[0m\n",
      "File \u001b[1;32m~\\anaconda3\\envs\\nlp2022\\lib\\site-packages\\spacy\\tokenizer.pyx:623\u001b[0m, in \u001b[0;36mspacy.tokenizer.Tokenizer._reload_special_cases\u001b[1;34m()\u001b[0m\n",
      "File \u001b[1;32m~\\anaconda3\\envs\\nlp2022\\lib\\site-packages\\spacy\\tokenizer.pyx:574\u001b[0m, in \u001b[0;36mspacy.tokenizer.Tokenizer._load_special_cases\u001b[1;34m()\u001b[0m\n",
      "File \u001b[1;32m~\\anaconda3\\envs\\nlp2022\\lib\\site-packages\\spacy\\tokenizer.pyx:618\u001b[0m, in \u001b[0;36mspacy.tokenizer.Tokenizer.add_special_case\u001b[1;34m()\u001b[0m\n",
      "File \u001b[1;32m~\\anaconda3\\envs\\nlp2022\\lib\\site-packages\\spacy\\tokenizer.pyx:169\u001b[0m, in \u001b[0;36mspacy.tokenizer.Tokenizer._tokenize_affixes\u001b[1;34m()\u001b[0m\n",
      "File \u001b[1;32m~\\anaconda3\\envs\\nlp2022\\lib\\site-packages\\spacy\\tokens\\doc.pyx:232\u001b[0m, in \u001b[0;36mspacy.tokens.doc.Doc.__init__\u001b[1;34m()\u001b[0m\n",
      "File \u001b[1;32m~\\anaconda3\\envs\\nlp2022\\lib\\site-packages\\spacy\\tokens\\_dict_proxies.py:29\u001b[0m, in \u001b[0;36mSpanGroups.__init__\u001b[1;34m(self, doc, items)\u001b[0m\n\u001b[0;32m     26\u001b[0m \u001b[38;5;28;01mdef\u001b[39;00m \u001b[38;5;21m__init__\u001b[39m(\n\u001b[0;32m     27\u001b[0m     \u001b[38;5;28mself\u001b[39m, doc: \u001b[38;5;124m\"\u001b[39m\u001b[38;5;124mDoc\u001b[39m\u001b[38;5;124m\"\u001b[39m, items: Iterable[Tuple[\u001b[38;5;28mstr\u001b[39m, SpanGroup]] \u001b[38;5;241m=\u001b[39m \u001b[38;5;28mtuple\u001b[39m()\n\u001b[0;32m     28\u001b[0m ) \u001b[38;5;241m-\u001b[39m\u001b[38;5;241m>\u001b[39m \u001b[38;5;28;01mNone\u001b[39;00m:\n\u001b[1;32m---> 29\u001b[0m     \u001b[38;5;28mself\u001b[39m\u001b[38;5;241m.\u001b[39mdoc_ref \u001b[38;5;241m=\u001b[39m \u001b[43mweakref\u001b[49m\u001b[38;5;241m.\u001b[39mref(doc)\n\u001b[0;32m     30\u001b[0m     UserDict\u001b[38;5;241m.\u001b[39m\u001b[38;5;21m__init__\u001b[39m(\u001b[38;5;28mself\u001b[39m, items)\n",
      "\u001b[1;31mKeyboardInterrupt\u001b[0m: "
     ]
    }
   ],
   "source": [
    "from torch import nn, optim\n",
    "\n",
    "# Model parameters\n",
    "HIDDEN_SIZE = 500\n",
    "ENCODER_N_LAYERS = 2\n",
    "DECODER_N_LAYERS = 2\n",
    "ATTENTION_MODEL = \"dot\"\n",
    "DROPOUT = 0.1\n",
    "\n",
    "# Training length parameters\n",
    "N_EPOCHS = 5\n",
    "BATCH_SIZE = 64\n",
    "ITERATOR = _get_dataloader(final_movie_line_pairs, BATCH_SIZE)\n",
    "\n",
    "# Training hyper parameters\n",
    "CLIP = 50.0\n",
    "TEACHER_FORCING_RATIO = 1.0\n",
    "LEARNING_RATE = 0.0001\n",
    "DECODER_LEARNING_RATIO = 5.0\n",
    "\n",
    "embedding = nn.Embedding(num_embeddings=len(text_vocab), embedding_dim=HIDDEN_SIZE)\n",
    "\n",
    "encoder = EncoderRNN(\n",
    "    hidden_size=HIDDEN_SIZE,\n",
    "    embedding=embedding, \n",
    "    n_layers=ENCODER_N_LAYERS,\n",
    "    dropout=DROPOUT\n",
    ").to(DEVICE)\n",
    "encoder_optimizer = optim.Adam(encoder.parameters(), lr=LEARNING_RATE)\n",
    "\n",
    "decoder = LuongAttnDecoderRNN(\n",
    "    attn_model=ATTENTION_MODEL,\n",
    "    embedding=embedding,\n",
    "    hidden_size=HIDDEN_SIZE,\n",
    "    output_size=len(text_vocab),\n",
    "    n_layers=DECODER_N_LAYERS,\n",
    "    dropout=DROPOUT\n",
    ").to(DEVICE)\n",
    "decoder_optimizer = optim.Adam(decoder.parameters(), lr=LEARNING_RATE * DECODER_LEARNING_RATIO)\n",
    "\n",
    "# Run training!\n",
    "print(f\"Using {'GPU' if str(DEVICE) == 'cuda' else 'CPU'} for training.\")\n",
    "train(\n",
    "    ITERATOR, N_EPOCHS,\n",
    "    encoder, decoder, encoder_optimizer, decoder_optimizer,\n",
    "    CLIP, TEACHER_FORCING_RATIO,\n",
    "    ENCODER_N_LAYERS, DECODER_N_LAYERS, HIDDEN_SIZE, ATTENTION_MODEL\n",
    ")"
   ]
  },
  {
   "cell_type": "markdown",
   "id": "d55cdb0d",
   "metadata": {},
   "source": [
    "# Inference\n",
    "In order to interact with the chatbot, we need to be able to convert its decoder's output from numbers to actual words. To do that, we will use Greedy decoding, which is essentially what we're already doing in our training process when we're not using teacher forcing. Each time step, we'll choose the word from the decoder output with the highest softmax value. This decoding method is optimal on a single time-step level.\n",
    "\n",
    "To facilitate the greedy decoding operation, we'll define a `GreedySearchDecoder` class. When run, an object of this class takes an input sequence, a scalar input length tensor and a maximum length to bound the response sentence length.\n",
    "\n",
    "The entire process will work as follows:\n",
    "1. Forward input through the encoder.\n",
    "2. Prepare the encoder's final hidden layer to be the first hidden input to the decoder.\n",
    "3. Initialize the decoder's first input as the BOS token.\n",
    "4. Initialize tensors to append decoded words to.\n",
    "5. Iteratively decode one word at a time:\n",
    "    1. Forward pass through decoder.\n",
    "    2. Obtain most likely word token and its softmax score.\n",
    "    3. Record token and score.\n",
    "    4. Prepare current token to be next decoder input.\n",
    "6. Return a collection of word tokens and scores."
   ]
  },
  {
   "cell_type": "code",
   "execution_count": null,
   "id": "d8f40901",
   "metadata": {},
   "outputs": [],
   "source": [
    "from torch import nn\n",
    "\n",
    "class GreedySearchDecoder(nn.Module):\n",
    "    def __init__(self, encoder, decoder, vocab):\n",
    "        super().__init__()\n",
    "        self.encoder = encoder\n",
    "        self.decoder = decoder\n",
    "        self.vocab = vocab\n",
    "\n",
    "    def forward(self, input_seq, input_length, max_length):\n",
    "        # Forward input through encoder model\n",
    "        encoder_outputs, encoder_hidden = self.encoder(input_seq, input_length)\n",
    "\n",
    "        # Prepare encoder's final hidden layer to be first hidden input to the decoder & Initialize decoder input with SOS_token\n",
    "        decoder_hidden = encoder_hidden[:decoder.n_layers]\n",
    "        decoder_input = torch.ones(1, 1, device=DEVICE, dtype=torch.long) * self.vocab[\"<bos>\"]\n",
    "\n",
    "        # Initialize tensors to append decoded words to\n",
    "        all_tokens = torch.zeros([0], device=DEVICE, dtype=torch.long)\n",
    "        all_scores = torch.zeros([0], device=DEVICE)\n",
    "\n",
    "        # Iteratively decode one word token at a time\n",
    "        for _ in range(max_length):\n",
    "            # Forward pass through decoder & Obtain most likely word token and its softmax score\n",
    "            decoder_output, decoder_hidden = self.decoder(decoder_input, decoder_hidden, encoder_outputs)\n",
    "            decoder_scores, decoder_input = torch.max(decoder_output, dim=1)\n",
    "\n",
    "            # Record token and score\n",
    "            all_tokens = torch.cat((all_tokens, decoder_input), dim=0)\n",
    "            all_scores = torch.cat((all_scores, decoder_scores), dim=0)\n",
    "\n",
    "            # Prepare current token to be next decoder input (add a dimension)\n",
    "            decoder_input = torch.unsqueeze(decoder_input, 0)\n",
    "\n",
    "        # Return collections of word tokens and scores\n",
    "        return all_tokens, all_scores"
   ]
  },
  {
   "cell_type": "markdown",
   "id": "87af0d7d",
   "metadata": {},
   "source": [
    "Finally, we'll make a utility class called `Chatbot` that will provide an interface for interaction. It will also handle tokenization and pre-processing the text."
   ]
  },
  {
   "cell_type": "code",
   "execution_count": null,
   "id": "166b42e0",
   "metadata": {},
   "outputs": [],
   "source": [
    "class Chatbot():\n",
    "    def __init__(self, model_file, device, max_length=10):\n",
    "        self.model = torch.load(model_file)\n",
    "        self.vocab = self.model[\"vocabulary\"]\n",
    "        self.hidden_size = self.model[\"hidden_size\"]\n",
    "        self.attn_model = self.model[\"attn_model\"]\n",
    "        self.device = device\n",
    "        self.max_length = max_length\n",
    "\n",
    "        self.embedding = nn.Embedding(num_embeddings=len(self.vocab), embedding_dim=HIDDEN_SIZE)\n",
    "        self.embedding.load_state_dict(self.model[\"embedding\"])\n",
    "        \n",
    "        self.encoder = EncoderRNN(self.hidden_size, self.embedding, self.model[\"encoder_n_layers\"]).to(self.device)\n",
    "        self.encoder.load_state_dict(self.model[\"encoder\"])\n",
    "\n",
    "        self.decoder = LuongAttnDecoderRNN(\n",
    "            self.attn_model, self.embedding, self.hidden_size, len(self.vocab), self.model[\"decoder_n_layers\"]\n",
    "        ).to(self.device)\n",
    "        self.decoder.load_state_dict(self.model[\"decoder\"])\n",
    "\n",
    "        self.searcher = GreedySearchDecoder(self.encoder, self.decoder, self.vocab)\n",
    "    \n",
    "    def _transform_input(self, input):\n",
    "        input = input_transform_common(input)\n",
    "        lengths = lengths_transform(input)\n",
    "        input = input_transform(input)\n",
    "        input = input.T\n",
    "        return input.to(DEVICE), lengths.cpu()\n",
    "    \n",
    "    def answer(self, question):\n",
    "        processed_question, length = self._transform_input([question])\n",
    "        _answer, scores = self.searcher(processed_question, length, self.max_length)\n",
    "        decoded_answer = [self.vocab.get_itos()[word.item()] for word in _answer]\n",
    "        decoded_answer[:] = [word for word in decoded_answer if not (word == \"<eos>\" or word == \"<pad>\")]\n",
    "        return \" \".join(decoded_answer)\n",
    "\n",
    "    def chat(self):\n",
    "        while(1):\n",
    "            try:\n",
    "                question = input(\"> \")\n",
    "                if question in [\"q\", \"quit\"]:\n",
    "                    break\n",
    "                \n",
    "                _answer = self.answer(question)\n",
    "                print(\"Bot: \", _answer)\n",
    "            except KeyError:\n",
    "                print(\"Error: Encountered unknown word.\")\n"
   ]
  },
  {
   "cell_type": "markdown",
   "id": "f134da66",
   "metadata": {},
   "source": [
    "Let's try it out!"
   ]
  },
  {
   "cell_type": "code",
   "execution_count": null,
   "id": "5e270049",
   "metadata": {},
   "outputs": [],
   "source": [
    "bot = Chatbot(\"chatbot-2-2-500-dot.pt\", DEVICE)\n",
    "bot.chat()"
   ]
  },
  {
   "cell_type": "code",
   "execution_count": null,
   "id": "8a30a5d6-5514-4545-9fdd-8b2c7dd8ec59",
   "metadata": {},
   "outputs": [],
   "source": []
  }
 ],
 "metadata": {
  "interpreter": {
   "hash": "920e794a5b259f1fa91519fb28c3de4dd3360c2bef803c48a0e90eeb944716d3"
  },
  "kernelspec": {
   "display_name": "nlp2022",
   "language": "python",
   "name": "nlp2022"
  },
  "language_info": {
   "codemirror_mode": {
    "name": "ipython",
    "version": 3
   },
   "file_extension": ".py",
   "mimetype": "text/x-python",
   "name": "python",
   "nbconvert_exporter": "python",
   "pygments_lexer": "ipython3",
   "version": "3.9.16"
  }
 },
 "nbformat": 4,
 "nbformat_minor": 5
}
